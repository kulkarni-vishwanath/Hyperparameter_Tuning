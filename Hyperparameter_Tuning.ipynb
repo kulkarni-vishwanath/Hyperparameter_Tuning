{
  "cells": [
    {
      "cell_type": "code",
      "execution_count": 6,
      "metadata": {
        "id": "aJynW1iiFtk8"
      },
      "outputs": [],
      "source": [
        "import pandas as pd\n",
        "import numpy as np\n",
        "import matplotlib.pyplot as plt\n",
        "%matplotlib inline\n",
        "from sklearn.datasets import make_classification\n",
        "from sklearn.metrics import accuracy_score\n",
        "from sklearn.model_selection import train_test_split,RandomizedSearchCV,GridSearchCV,cross_val_score\n",
        "\n",
        "from sklearn.ensemble import RandomForestClassifier,GradientBoostingClassifier\n",
        "from sklearn.tree import DecisionTreeClassifier\n",
        "from sklearn.linear_model import LogisticRegression\n",
        "from sklearn.neighbors import KNeighborsClassifier\n",
        "from sklearn.naive_bayes import GaussianNB\n",
        "import xgboost as xgb\n",
        "import lightgbm as lgb\n",
        "\n",
        "\n",
        "from time import time\n",
        "from hyperopt import tpe, hp, fmin, STATUS_OK,Trials"
      ]
    },
    {
      "cell_type": "markdown",
      "metadata": {
        "id": "RIWfO1AYFtlF"
      },
      "source": [
        "### Generating the Dummy Dataset And Splitting into Training and Testing datasets"
      ]
    },
    {
      "cell_type": "markdown",
      "metadata": {
        "id": "9D2s6DLwFtlK"
      },
      "source": [
        "We are generating a dummy dataset with 25000 observations and 10 variables of which 5 are informative and 5 are redundant. We have also defined the weights parameter as None as we want the classes in the dependent variable to be balanced. We will use this dataset to tune hyperparameters using various methods."
      ]
    },
    {
      "cell_type": "code",
      "execution_count": 7,
      "metadata": {
        "id": "XA-z7XRiFtlM"
      },
      "outputs": [],
      "source": [
        "# Generating Synthetic Dataset\n",
        "X, y = make_classification(n_samples=25000, \n",
        "                           n_classes=2,\n",
        "                           n_features=10, \n",
        "                           n_informative=5, \n",
        "                           n_redundant=5,\n",
        "                           random_state=42,\n",
        "                           weights=None)"
      ]
    },
    {
      "cell_type": "code",
      "execution_count": 8,
      "metadata": {
        "id": "oYqvthwkFtlO",
        "outputId": "46983c35-5572-473d-bdb0-971ce92d5800",
        "colab": {
          "base_uri": "https://localhost:8080/"
        }
      },
      "outputs": [
        {
          "output_type": "stream",
          "name": "stdout",
          "text": [
            "(20000, 10)\n",
            "(20000,)\n",
            "(5000, 10)\n",
            "(5000,)\n"
          ]
        }
      ],
      "source": [
        "# Splitting the data into train, test datasets\n",
        "X_Train, X_Test, y_Train, y_Test = train_test_split(X,y,test_size=0.2,random_state=42)\n",
        "print (X_Train.shape)\n",
        "print (y_Train.shape)\n",
        "print (X_Test.shape)\n",
        "print (y_Test.shape)"
      ]
    },
    {
      "cell_type": "markdown",
      "metadata": {
        "id": "IOtR4M98FtlQ"
      },
      "source": [
        "### Manual Hyperparameter Tuning"
      ]
    },
    {
      "cell_type": "code",
      "execution_count": 9,
      "metadata": {
        "id": "7gRR9-aOFtlV",
        "outputId": "bffe1d99-b2b0-4a41-c42d-c43b4d997702",
        "colab": {
          "base_uri": "https://localhost:8080/"
        }
      },
      "outputs": [
        {
          "output_type": "stream",
          "name": "stdout",
          "text": [
            "CPU times: user 2min 42s, sys: 968 ms, total: 2min 43s\n",
            "Wall time: 1min 25s\n"
          ]
        }
      ],
      "source": [
        "# Manual Hyerparameter Tuning using RandomForestClassifier\n",
        "%%time\n",
        "n_estimators = [100,200,500,750,1000]\n",
        "testing_scores  = []\n",
        "training_scores = []\n",
        "\n",
        "for value in n_estimators:\n",
        "    \n",
        "    # Building the model with different values of n_estimators\n",
        "    rf = RandomForestClassifier(n_estimators=value,\n",
        "                                max_depth=8,\n",
        "                                max_features='sqrt',\n",
        "                                min_samples_leaf=25,\n",
        "                                min_samples_split=30,\n",
        "                                n_jobs=-1,\n",
        "                                random_state=42)\n",
        "    \n",
        "    # Fitting the model on training datasets\n",
        "    rf.fit(X_Train,y_Train)\n",
        "\n",
        "    # predicting on training and testing datasets\n",
        "    training_predictions = rf.predict(X_Train)\n",
        "    testing_predictions = rf.predict(X_Test)\n",
        "\n",
        "    # checking the accuracy score on training and testing datasets\n",
        "    training_accuracy_score = accuracy_score(y_Train,training_predictions)\n",
        "    testing_accuracy_score  = accuracy_score(y_Test,testing_predictions)\n",
        "    \n",
        "    # Appending these values to our original lists\n",
        "    training_scores.append(training_accuracy_score)\n",
        "    testing_scores.append(testing_accuracy_score)"
      ]
    },
    {
      "cell_type": "markdown",
      "metadata": {
        "id": "Twd09_w2FtlX"
      },
      "source": [
        "* We can see that for a set of 5 values of n_estimators, it took about 1.5 minutes roughly, so it can be time-consuming to tune hyperparameters manually. Let us now see how it affects the accuracy score.\n",
        "* We can see that for one hyperparameter, it took about 1.5 mins. If you want to manually tune many of them, the time taken will be significantly higher and the performance will also vary. So it is not feasible to manually tune the hyperparameters. \n",
        "* We can also see in the line plot below that as the n_estimators increase, the training and testing accuracies increase, but further increase in the n_estimators decreases both accuracies. "
      ]
    },
    {
      "cell_type": "code",
      "execution_count": 10,
      "metadata": {
        "id": "A9uhyVOtFtlY",
        "outputId": "d89d5698-0ddf-426c-8e81-30a56473676a",
        "colab": {
          "base_uri": "https://localhost:8080/",
          "height": 296
        }
      },
      "outputs": [
        {
          "output_type": "display_data",
          "data": {
            "image/png": "[encoded data removed]",
            "text/plain": [
              "<Figure size 432x288 with 1 Axes>"
            ]
          },
          "metadata": {
            "needs_background": "light"
          }
        }
      ],
      "source": [
        "df = pd.DataFrame({'Training_Scores': training_scores,'Testing_Scores':  testing_scores}, index=n_estimators)\n",
        "\n",
        "df.plot.line();\n",
        "plt.xlabel(\"N_Estimators\");\n",
        "plt.ylabel('Accuracy_Scores');\n",
        "plt.title(\"Training and Testing Dataset Accuracy Scores with Different n_estimator Values\");"
      ]
    },
    {
      "cell_type": "code",
      "source": [
        "# Manual Hyerparameter Tuning using DecisionTreeClassifier\n",
        "# Note that these results can be misleading as we are using just one tree, when you combine over multiple trees, the accuracy score is bound to come down.\n",
        "# In other words, Decision Trees tend to overfit, in order to reduce that, ensemble models such as Bagging and Boosting methods are used.\n",
        "%%time\n",
        "maximum_depth = [6,8,10,12]\n",
        "testing_scores_dc  = []\n",
        "training_scores_dc = []\n",
        "\n",
        "for value in maximum_depth:\n",
        "    \n",
        "    # Building the model with different values of maximum_depth \n",
        "    dc = DecisionTreeClassifier(max_depth=value,\n",
        "                                max_features='sqrt',\n",
        "                                min_samples_leaf=25,\n",
        "                                min_samples_split=30,\n",
        "                                random_state=42)\n",
        "    \n",
        "    # Fitting the model on training datasets\n",
        "    dc.fit(X_Train,y_Train)\n",
        "\n",
        "    # predicting on training and testing datasets\n",
        "    training_predictions_dc = dc.predict(X_Train)\n",
        "    testing_predictions_dc = dc.predict(X_Test)\n",
        "\n",
        "    # checking the accuracy score on training and testing datasets\n",
        "    training_accuracy_score_dc = accuracy_score(y_Train,training_predictions_dc)\n",
        "    testing_accuracy_score_dc  = accuracy_score(y_Test,testing_predictions_dc)\n",
        "    \n",
        "    # Appending these values to our original lists\n",
        "    training_scores_dc.append(training_accuracy_score_dc)\n",
        "    testing_scores_dc.append(testing_accuracy_score_dc)\n",
        "\n",
        "\n",
        "df = pd.DataFrame({'Training_Scores': training_scores_dc,'Testing_Scores':  testing_scores_dc}, index=maximum_depth)\n",
        "\n",
        "df.plot.line();\n",
        "plt.xlabel(\"Maximum Depth\");\n",
        "plt.ylabel('Accuracy_Scores');\n",
        "plt.title(\"Training and Testing Dataset Accuracy Scores with Different Maximum Depth Values for Decision Tree Classifier\");"
      ],
      "metadata": {
        "colab": {
          "base_uri": "https://localhost:8080/",
          "height": 330
        },
        "id": "5JnNJ-vH_5f9",
        "outputId": "8152454a-34ec-4187-defb-3994b302b24a"
      },
      "execution_count": 11,
      "outputs": [
        {
          "output_type": "stream",
          "name": "stdout",
          "text": [
            "CPU times: user 341 ms, sys: 3.98 ms, total: 345 ms\n",
            "Wall time: 346 ms\n"
          ]
        },
        {
          "output_type": "display_data",
          "data": {
            "image/png": "[encoded data removed]",
            "text/plain": [
              "<Figure size 432x288 with 1 Axes>"
            ]
          },
          "metadata": {
            "needs_background": "light"
          }
        }
      ]
    },
    {
      "cell_type": "code",
      "source": [
        "# Manual Hyerparameter Tuning using GradientBoostingClassifier\n",
        "%%time\n",
        "maximum_depth = [6,8,10,12]\n",
        "testing_scores_gb  = []\n",
        "training_scores_gb = []\n",
        "\n",
        "for value in maximum_depth:\n",
        "    \n",
        "    # Building the model with different values of maximum_depth \n",
        "    gb = GradientBoostingClassifier(n_estimators=500,\n",
        "                                    learning_rate=0.01,\n",
        "                                    max_depth=value,\n",
        "                                    max_features='sqrt',\n",
        "                                    min_samples_leaf=25,\n",
        "                                    min_samples_split=30,\n",
        "                                    random_state=42)\n",
        "    \n",
        "    # Fitting the model on training datasets\n",
        "    gb.fit(X_Train,y_Train)\n",
        "\n",
        "    # predicting on training and testing datasets\n",
        "    training_predictions_gb = gb.predict(X_Train)\n",
        "    testing_predictions_gb = gb.predict(X_Test)\n",
        "\n",
        "    # checking the accuracy score on training and testing datasets\n",
        "    training_accuracy_score_gb = accuracy_score(y_Train,training_predictions_gb)\n",
        "    testing_accuracy_score_gb  = accuracy_score(y_Test,testing_predictions_gb)\n",
        "    \n",
        "    # Appending these values to our original lists\n",
        "    training_scores_gb.append(training_accuracy_score_gb)\n",
        "    testing_scores_gb.append(testing_accuracy_score_gb)\n",
        "\n",
        "\n",
        "df = pd.DataFrame({'Training_Scores': training_scores_gb,'Testing_Scores':  testing_scores_gb}, index=maximum_depth)\n",
        "\n",
        "df.plot.line();\n",
        "plt.xlabel(\"Maximum Depth\");\n",
        "plt.ylabel('Accuracy_Scores');\n",
        "plt.title(\"Training and Testing Dataset Accuracy Scores with Different Maximum Depth Values for Gradient Boosting Classifier\");"
      ],
      "metadata": {
        "colab": {
          "base_uri": "https://localhost:8080/",
          "height": 330
        },
        "id": "6r836Lsz_5xs",
        "outputId": "1e5f440a-6aeb-4fb4-dc71-ba20a7791fcd"
      },
      "execution_count": 12,
      "outputs": [
        {
          "output_type": "stream",
          "name": "stdout",
          "text": [
            "CPU times: user 2min 30s, sys: 180 ms, total: 2min 30s\n",
            "Wall time: 2min 29s\n"
          ]
        },
        {
          "output_type": "display_data",
          "data": {
            "image/png": "[encoded data removed]",
            "text/plain": [
              "<Figure size 432x288 with 1 Axes>"
            ]
          },
          "metadata": {
            "needs_background": "light"
          }
        }
      ]
    },
    {
      "cell_type": "code",
      "source": [
        "# Manual Hyerparameter Tuning using LightGBMClassifier\n",
        "%%time\n",
        "maximum_depth = [6,8,10,12]\n",
        "testing_scores_lgb  = []\n",
        "training_scores_lgb = []\n",
        "\n",
        "for value in maximum_depth:\n",
        "    \n",
        "    # Building the model with different values of maximum_depth \n",
        "    lgbm = lgb.LGBMClassifier(n_estimators=500,\n",
        "                             learning_rate=0.01,\n",
        "                             max_depth=value,\n",
        "                             max_features='sqrt',\n",
        "                             min_samples_leaf=25,\n",
        "                             min_samples_split=30,\n",
        "                             random_state=42,\n",
        "                             n_jobs=-1)\n",
        "    \n",
        "    # Fitting the model on training datasets\n",
        "    lgbm.fit(X_Train,y_Train)\n",
        "\n",
        "    # predicting on training and testing datasets\n",
        "    training_predictions_lgb = lgbm.predict(X_Train)\n",
        "    testing_predictions_lgb = lgbm.predict(X_Test)\n",
        "\n",
        "    # checking the accuracy score on training and testing datasets\n",
        "    training_accuracy_score_lgb = accuracy_score(y_Train,training_predictions_lgb)\n",
        "    testing_accuracy_score_lgb  = accuracy_score(y_Test,testing_predictions_lgb)\n",
        "    \n",
        "    # Appending these values to our original lists\n",
        "    training_scores_lgb.append(training_accuracy_score_lgb)\n",
        "    testing_scores_lgb.append(testing_accuracy_score_lgb)\n",
        "\n",
        "\n",
        "df = pd.DataFrame({'Training_Scores': training_scores_lgb,'Testing_Scores':  testing_scores_lgb}, index=maximum_depth)\n",
        "\n",
        "df.plot.line();\n",
        "plt.xlabel(\"Maximum Depth\");\n",
        "plt.ylabel('Accuracy_Scores');\n",
        "plt.title(\"Training and Testing Dataset Accuracy Scores with Different Maximum Depth Values for LightGBM Classifier\");"
      ],
      "metadata": {
        "colab": {
          "base_uri": "https://localhost:8080/",
          "height": 330
        },
        "id": "ascq2vav_5_R",
        "outputId": "4f72992a-5ef2-4770-c8d1-606f0708bc12"
      },
      "execution_count": 13,
      "outputs": [
        {
          "output_type": "stream",
          "name": "stdout",
          "text": [
            "CPU times: user 19.2 s, sys: 256 ms, total: 19.4 s\n",
            "Wall time: 9.98 s\n"
          ]
        },
        {
          "output_type": "display_data",
          "data": {
            "image/png": "[encoded data removed]",
            "text/plain": [
              "<Figure size 432x288 with 1 Axes>"
            ]
          },
          "metadata": {
            "needs_background": "light"
          }
        }
      ]
    },
    {
      "cell_type": "code",
      "source": [
        "# Manual Hyerparameter Tuning using XGBoost Classifier\n",
        "%%time\n",
        "maximum_depth = [6,8,10,12]\n",
        "testing_scores_xgb  = []\n",
        "training_scores_xgb = []\n",
        "\n",
        "for value in maximum_depth:\n",
        "    \n",
        "    # Building the model with different values of maximum_depth \n",
        "    xgbm = xgb.XGBClassifier(n_estimators=500,\n",
        "                             learning_rate=0.01,\n",
        "                             max_depth=value,\n",
        "                             max_features='sqrt',\n",
        "                             min_samples_leaf=25,\n",
        "                             min_samples_split=30,\n",
        "                             random_state=42,\n",
        "                             n_jobs=-1)\n",
        "    \n",
        "    # Fitting the model on training datasets\n",
        "    xgbm.fit(X_Train,y_Train)\n",
        "\n",
        "    # predicting on training and testing datasets\n",
        "    training_predictions_xgb = xgbm.predict(X_Train)\n",
        "    testing_predictions_xgb = xgbm.predict(X_Test)\n",
        "\n",
        "    # checking the accuracy score on training and testing datasets\n",
        "    training_accuracy_score_xgb = accuracy_score(y_Train,training_predictions_xgb)\n",
        "    testing_accuracy_score_xgb  = accuracy_score(y_Test,testing_predictions_xgb)\n",
        "    \n",
        "    # Appending these values to our original lists\n",
        "    training_scores_xgb.append(training_accuracy_score_xgb)\n",
        "    testing_scores_xgb.append(testing_accuracy_score_xgb)\n",
        "\n",
        "\n",
        "df = pd.DataFrame({'Training_Scores': training_scores_xgb,'Testing_Scores':  testing_scores_xgb}, index=maximum_depth)\n",
        "\n",
        "df.plot.line();\n",
        "plt.xlabel(\"Maximum Depth\");\n",
        "plt.ylabel('Accuracy_Scores');\n",
        "plt.title(\"Training and Testing Dataset Accuracy Scores with Different Maximum Depth Values for XGBoost Classifier\");"
      ],
      "metadata": {
        "colab": {
          "base_uri": "https://localhost:8080/",
          "height": 330
        },
        "id": "6fy4vHGw_6Et",
        "outputId": "123947d9-a7f5-4747-9e2f-71fbeaad42f8"
      },
      "execution_count": 14,
      "outputs": [
        {
          "output_type": "stream",
          "name": "stdout",
          "text": [
            "CPU times: user 3min 24s, sys: 403 ms, total: 3min 25s\n",
            "Wall time: 1min 44s\n"
          ]
        },
        {
          "output_type": "display_data",
          "data": {
            "image/png": "[encoded data removed]",
            "text/plain": [
              "<Figure size 432x288 with 1 Axes>"
            ]
          },
          "metadata": {
            "needs_background": "light"
          }
        }
      ]
    },
    {
      "cell_type": "code",
      "source": [
        "# Manual Hyerparameter Tuning using K Nearest Neighbors Classifier\n",
        "%%time\n",
        "neighbors = [4,8,12,16,20,24,28,32]\n",
        "testing_scores_knn  = []\n",
        "training_scores_knn = []\n",
        "\n",
        "for value in neighbors:\n",
        "    \n",
        "    # Building the model with different values of n_neighbors \n",
        "    knn = KNeighborsClassifier(n_neighbors=value,\n",
        "                               n_jobs=-1)\n",
        "    \n",
        "    # Fitting the model on training datasets\n",
        "    knn.fit(X_Train,y_Train)\n",
        "\n",
        "    # predicting on training and testing datasets\n",
        "    training_predictions_knn = knn.predict(X_Train)\n",
        "    testing_predictions_knn = knn.predict(X_Test)\n",
        "\n",
        "    # checking the accuracy score on training and testing datasets\n",
        "    training_accuracy_score_knn = accuracy_score(y_Train,training_predictions_knn)\n",
        "    testing_accuracy_score_knn  = accuracy_score(y_Test,testing_predictions_knn)\n",
        "    \n",
        "    # Appending these values to our original lists\n",
        "    training_scores_knn.append(training_accuracy_score_knn)\n",
        "    testing_scores_knn.append(testing_accuracy_score_knn)\n",
        "\n",
        "\n",
        "df = pd.DataFrame({'Training_Scores': training_scores_knn,'Testing_Scores':  testing_scores_knn}, index=neighbors)\n",
        "\n",
        "df.plot.line();\n",
        "plt.xlabel(\"N_Neighbors\");\n",
        "plt.ylabel('Accuracy_Scores');\n",
        "plt.title(\"Training and Testing Dataset Accuracy Scores with Different N_Neighbors Values for KNN Classifier\");"
      ],
      "metadata": {
        "colab": {
          "base_uri": "https://localhost:8080/",
          "height": 331
        },
        "id": "iLJzgM8__6Jp",
        "outputId": "e19ab787-d170-4526-dfb6-196350be25ae"
      },
      "execution_count": 15,
      "outputs": [
        {
          "output_type": "stream",
          "name": "stdout",
          "text": [
            "CPU times: user 17.1 s, sys: 214 ms, total: 17.3 s\n",
            "Wall time: 12.3 s\n"
          ]
        },
        {
          "output_type": "display_data",
          "data": {
            "image/png": "[encoded data removed]",
            "text/plain": [
              "<Figure size 432x288 with 1 Axes>"
            ]
          },
          "metadata": {
            "needs_background": "light"
          }
        }
      ]
    },
    {
      "cell_type": "code",
      "source": [
        "# Manual Hyerparameter Tuning using Logistic Regression\n",
        "%%time\n",
        "c_values = [.001,.005,.01,.05,.1,.5]\n",
        "testing_scores_lr  = []\n",
        "training_scores_lr = []\n",
        "\n",
        "for value in c_values:\n",
        "    \n",
        "    # Building the model with different c values \n",
        "    lr = LogisticRegression(C=value,\n",
        "                            n_jobs=-1,)\n",
        "    \n",
        "    # Fitting the model on training datasets\n",
        "    lr.fit(X_Train,y_Train)\n",
        "\n",
        "    # predicting on training and testing datasets\n",
        "    training_predictions_lr = lr.predict(X_Train)\n",
        "    testing_predictions_lr = lr.predict(X_Test)\n",
        "\n",
        "    # checking the accuracy score on training and testing datasets\n",
        "    training_accuracy_score_lr = accuracy_score(y_Train,training_predictions_lr)\n",
        "    testing_accuracy_score_lr  = accuracy_score(y_Test,testing_predictions_lr)\n",
        "    \n",
        "    # Appending these values to our original lists\n",
        "    training_scores_lr.append(training_accuracy_score_lr)\n",
        "    testing_scores_lr.append(testing_accuracy_score_lr)\n",
        "\n",
        "\n",
        "df = pd.DataFrame({'Training_Scores': training_scores_lr,'Testing_Scores':  testing_scores_lr}, index=c_values)\n",
        "\n",
        "df.plot.line();\n",
        "plt.xlabel(\"C Values\");\n",
        "plt.ylabel('Accuracy_Scores');\n",
        "plt.title(\"Training and Testing Dataset Accuracy Scores with Different C Values Values for Logistic Regression\");"
      ],
      "metadata": {
        "colab": {
          "base_uri": "https://localhost:8080/",
          "height": 330
        },
        "id": "Tw8n7M5ZhsJb",
        "outputId": "69d9c2d4-2e68-459a-cfe2-34d45122dc0d"
      },
      "execution_count": 16,
      "outputs": [
        {
          "output_type": "stream",
          "name": "stdout",
          "text": [
            "CPU times: user 215 ms, sys: 601 ms, total: 816 ms\n",
            "Wall time: 2.26 s\n"
          ]
        },
        {
          "output_type": "display_data",
          "data": {
            "image/png": "[encoded data removed]",
            "text/plain": [
              "<Figure size 432x288 with 1 Axes>"
            ]
          },
          "metadata": {
            "needs_background": "light"
          }
        }
      ]
    },
    {
      "cell_type": "markdown",
      "source": [
        "We can see from Manual Hyperparameter Tuning of the other ML models that Logistic Regression gave us the least accuracy, LightGBM and XGBoost gave almost the same accuracy. K Nearest Neighbors classifier almost gave the same accuract as the Boosting models which is surprising. The reason Logistic Regression gave us such low score is because there are lot of assumptions involved while building an LR model, and if they are not met, the model does not perorm well.\n",
        "\n",
        "\n",
        "\n"
      ],
      "metadata": {
        "id": "Msq8E8kMoEt0"
      }
    },
    {
      "cell_type": "code",
      "source": [
        ""
      ],
      "metadata": {
        "id": "A-mPQ0fro9DM"
      },
      "execution_count": 16,
      "outputs": []
    },
    {
      "cell_type": "markdown",
      "metadata": {
        "id": "lnkiKQiZFtlZ"
      },
      "source": [
        "### Hyperparameter Tuning with Random Search"
      ]
    },
    {
      "cell_type": "markdown",
      "metadata": {
        "id": "3rHqCIGYFtla"
      },
      "source": [
        "Now we shall see how to tune the Hyperparameters of the Random Forest model using the RandomizedsearchCV library from scikit-learn. \n",
        "\n",
        "There are a few things to note about RandomizedsearchCV implementation from scikit-learn,\n",
        "\n",
        "1. We need to pass the parameters in the form of distribution or grid-like with key-value pairs, like in a dictionary.\n",
        "2. It performs cross-validation, so that overfitting does not happen.\n",
        "3. For classification problems, by default, StratifiedKFold cross-validation is performed and for Regression problems, KFold cross-validation is performed. This is helpful in case the dependent variable is imbalanced.\n",
        "4. It also has methods like predict_proba in case you want to predict probabilities, best_score_ to know the best score obtained, best_params_ to get the best parameters that the model has learned, etc. \n",
        "5. You can also define the number of combinations of parameter settings, it is defined by n_iter.\n",
        "6. You can also define the scoring parameter of your choice. "
      ]
    },
    {
      "cell_type": "code",
      "source": [
        ""
      ],
      "metadata": {
        "id": "u_NueJea3iDh"
      },
      "execution_count": 16,
      "outputs": []
    },
    {
      "cell_type": "markdown",
      "source": [
        "The function defined below, will be used to execute the Random Search using different machine learning models. It will take parameter distribution as the argument and return the best scores, params and estimators. The functions can also be used to run Random search on different ML models. "
      ],
      "metadata": {
        "id": "EASV6cNS3i6l"
      }
    },
    {
      "cell_type": "code",
      "source": [
        "def randomsearch(**param_distribution):\n",
        "\n",
        "  # defining the model\n",
        "  if param_distribution['model_name'] == \"rf\":\n",
        "    model = RandomForestClassifier()\n",
        "  elif param_distribution['model_name'] == \"dt\":\n",
        "    model = DecisionTreeClassifier()\n",
        "  elif param_distribution['model_name'] == \"lgb\":\n",
        "    model = lgb.LGBMClassifier(boosting_type='gbdt',objective='binary')\n",
        "  elif param_distribution['model_name'] == \"xgb\":\n",
        "    model = xgb.XGBClassifier(booster='gbtree',objective=\"binary:logistic\")\n",
        "  elif param_distribution['model_name'] == \"knn\":\n",
        "    model = KNeighborsClassifier()\n",
        "  elif param_distribution['model_name'] == \"lr\":\n",
        "    model = LogisticRegression()\n",
        "  elif param_distribution['model_name'] == \"nb\":\n",
        "    model = GaussianNB()\n",
        "  elif param_distribution['model_name'] == \"gb\":\n",
        "    model = GradientBoostingClassifier()\n",
        "\n",
        "  # drop the model name from params\n",
        "  del param_distribution['model_name']\n",
        "\n",
        "  \n",
        "  # defining the search\n",
        "  random_search = RandomizedSearchCV(estimator=model,\n",
        "                                     param_distributions=param_distribution,\n",
        "                                     n_iter=10,\n",
        "                                     scoring='accuracy',\n",
        "                                     cv = 5,\n",
        "                                     n_jobs=-1,\n",
        "                                     random_state=42)\n",
        "  \n",
        "  # fitting the randomizedsearchcv\n",
        "  random_search.fit(X,y)\n",
        "\n",
        "  # fetching the best score, params, estimator\n",
        "  print (random_search.best_score_)\n",
        "  print (\"----------------\")\n",
        "\n",
        "  print (random_search.best_params_)\n",
        "  print (\"----------------\")\n",
        "\n",
        "  print (random_search.best_estimator_)\n"
      ],
      "metadata": {
        "id": "NDKN08B7yZ90"
      },
      "execution_count": 17,
      "outputs": []
    },
    {
      "cell_type": "code",
      "source": [
        "# Hyperparameter tuning using Randomizedsearchcv - Decision Tree Classifier.\n",
        "param_distribution = {\"max_depth\":list(range(4,11,2)),\n",
        "                      \"max_features\":['sqrt','log2',0.5],\n",
        "                      \"min_samples_leaf\":list(range(5,16,5)),\n",
        "                      \"min_samples_split\":list(range(15,30,5)),\n",
        "                      \"model_name\":\"dt\"}\n",
        "\n",
        "%time randomsearch(**param_distribution)"
      ],
      "metadata": {
        "colab": {
          "base_uri": "https://localhost:8080/"
        },
        "id": "baZwEthdpTtL",
        "outputId": "076af471-3dfd-48a5-fb79-3edb57151192"
      },
      "execution_count": 18,
      "outputs": [
        {
          "output_type": "stream",
          "name": "stdout",
          "text": [
            "0.91896\n",
            "----------------\n",
            "{'min_samples_split': 25, 'min_samples_leaf': 5, 'max_features': 'sqrt', 'max_depth': 10}\n",
            "----------------\n",
            "DecisionTreeClassifier(max_depth=10, max_features='sqrt', min_samples_leaf=5,\n",
            "                       min_samples_split=25)\n",
            "CPU times: user 274 ms, sys: 27 ms, total: 301 ms\n",
            "Wall time: 2.88 s\n"
          ]
        }
      ]
    },
    {
      "cell_type": "code",
      "source": [
        "# Hyperparameter tuning using Randomizedsearchcv - Random Forest Classifier.\n",
        "param_distribution = {\"n_estimators\":list(range(200,700,200)),\n",
        "                      \"max_depth\":list(range(4,11,2)),\n",
        "                      \"max_features\":['sqrt','log2',0.5],\n",
        "                      \"min_samples_leaf\":list(range(5,16,5)),\n",
        "                      \"min_samples_split\":list(range(15,30,5)),\n",
        "                      \"model_name\":\"rf\"}\n",
        "\n",
        "%time randomsearch(**param_distribution)"
      ],
      "metadata": {
        "colab": {
          "base_uri": "https://localhost:8080/"
        },
        "id": "UJA5geE82ZAb",
        "outputId": "76730101-ab9f-4529-81f9-48bcca145845"
      },
      "execution_count": 19,
      "outputs": [
        {
          "output_type": "stream",
          "name": "stdout",
          "text": [
            "0.945\n",
            "----------------\n",
            "{'n_estimators': 600, 'min_samples_split': 20, 'min_samples_leaf': 15, 'max_features': 'sqrt', 'max_depth': 10}\n",
            "----------------\n",
            "RandomForestClassifier(max_depth=10, max_features='sqrt', min_samples_leaf=15,\n",
            "                       min_samples_split=20, n_estimators=600)\n",
            "CPU times: user 41.7 s, sys: 430 ms, total: 42.1 s\n",
            "Wall time: 9min 17s\n"
          ]
        }
      ]
    },
    {
      "cell_type": "code",
      "source": [
        "# Hyperparameter tuning using Randomizedsearchcv - Gradient Boosting Classifier.\n",
        "param_distribution = {\"learning_rate\":[0.001,0.003,0.005],\n",
        "                      \"n_estimators\":list(range(200,700,200)),\n",
        "                      \"max_depth\":list(range(4,11,2)),\n",
        "                      \"subsample\":[0.9,0.8],\n",
        "                      \"min_samples_leaf\":list(range(5,16,5)),\n",
        "                      \"min_samples_split\":list(range(15,30,5)),\n",
        "                      \"max_features\":[0.5,'sqrt','log2'],\n",
        "                      \"model_name\":\"gb\"}\n",
        "\n",
        "%time randomsearch(**param_distribution)"
      ],
      "metadata": {
        "colab": {
          "base_uri": "https://localhost:8080/"
        },
        "id": "y2ccVS-qpB6g",
        "outputId": "eceef8d5-bb79-4223-e357-1ccfb34aa5b0"
      },
      "execution_count": 20,
      "outputs": [
        {
          "output_type": "stream",
          "name": "stdout",
          "text": [
            "0.95472\n",
            "----------------\n",
            "{'subsample': 0.9, 'n_estimators': 600, 'min_samples_split': 25, 'min_samples_leaf': 15, 'max_features': 'log2', 'max_depth': 10, 'learning_rate': 0.003}\n",
            "----------------\n",
            "GradientBoostingClassifier(learning_rate=0.003, max_depth=10,\n",
            "                           max_features='log2', min_samples_leaf=15,\n",
            "                           min_samples_split=25, n_estimators=600,\n",
            "                           subsample=0.9)\n",
            "CPU times: user 1min 4s, sys: 674 ms, total: 1min 5s\n",
            "Wall time: 16min 20s\n"
          ]
        }
      ]
    },
    {
      "cell_type": "code",
      "source": [
        "# Hyperparameter tuning using Randomizedsearchcv - LightGBM Classifier.\n",
        "param_distribution = {\"learning_rate\":[0.001,0.003,0.005,0.01],\n",
        "                      \"n_estimators\":list(range(200,2000,200)),\n",
        "                      \"max_depth\":list(range(4,11,2)),\n",
        "                      \"subsample\":[0.9,0.8],\n",
        "                      \"colsample_bytree\":[0.9,0.8,0.7],\n",
        "                      \"model_name\":\"lgb\",\n",
        "                      \"min_child_samples\":[5,7,10,15,25],\n",
        "                      \"reg_alpha\":[0.5,1,2],\n",
        "                      \"reg_lambda\":[0.5,1,2]}\n",
        "\n",
        "%time randomsearch(**param_distribution)"
      ],
      "metadata": {
        "colab": {
          "base_uri": "https://localhost:8080/"
        },
        "id": "1n2EaxAdpCAO",
        "outputId": "646fec5f-6b7e-4e47-bf20-a7ae8c660120"
      },
      "execution_count": 21,
      "outputs": [
        {
          "output_type": "stream",
          "name": "stdout",
          "text": [
            "0.9573600000000001\n",
            "----------------\n",
            "{'subsample': 0.9, 'reg_lambda': 2, 'reg_alpha': 2, 'n_estimators': 1000, 'min_child_samples': 5, 'max_depth': 10, 'learning_rate': 0.01, 'colsample_bytree': 0.7}\n",
            "----------------\n",
            "LGBMClassifier(colsample_bytree=0.7, learning_rate=0.01, max_depth=10,\n",
            "               min_child_samples=5, n_estimators=1000, objective='binary',\n",
            "               reg_alpha=2, reg_lambda=2, subsample=0.9)\n",
            "CPU times: user 8.59 s, sys: 246 ms, total: 8.83 s\n",
            "Wall time: 3min 4s\n"
          ]
        }
      ]
    },
    {
      "cell_type": "code",
      "source": [
        "# Hyperparameter tuning using Randomizedsearchcv - XGBoost Classifier.\n",
        "param_distribution = {\"learning_rate\":[0.001,0.003,0.005],\n",
        "                      \"n_estimators\":list(range(200,1000,200)),\n",
        "                      \"max_depth\":list(range(4,11,2)),\n",
        "                      \"subsample\":[0.9,0.8],\n",
        "                      \"colsample_bytree\":[0.9,0.8,0.7],\n",
        "                      \"model_name\":\"xgb\",\n",
        "                      \"min_child_samples\":[5,7,10,15],\n",
        "                      \"reg_alpha\":[0.5,1,2],\n",
        "                      \"reg_lambda\":[0.5,1,2]}\n",
        "\n",
        "%time randomsearch(**param_distribution)"
      ],
      "metadata": {
        "colab": {
          "base_uri": "https://localhost:8080/"
        },
        "id": "2PA3MTVGpCEk",
        "outputId": "3daa9f44-5995-4a1f-a9c9-19457afb608a"
      },
      "execution_count": 22,
      "outputs": [
        {
          "output_type": "stream",
          "name": "stdout",
          "text": [
            "0.95164\n",
            "----------------\n",
            "{'subsample': 0.9, 'reg_lambda': 2, 'reg_alpha': 1, 'n_estimators': 600, 'min_child_samples': 15, 'max_depth': 10, 'learning_rate': 0.003, 'colsample_bytree': 0.8}\n",
            "----------------\n",
            "XGBClassifier(colsample_bytree=0.8, learning_rate=0.003, max_depth=10,\n",
            "              min_child_samples=15, n_estimators=600, reg_alpha=1, reg_lambda=2,\n",
            "              subsample=0.9)\n",
            "CPU times: user 46.6 s, sys: 560 ms, total: 47.1 s\n",
            "Wall time: 15min 33s\n"
          ]
        }
      ]
    },
    {
      "cell_type": "code",
      "source": [
        "# Hyperparameter tuning using Randomizedsearchcv - KNN Classifier.\n",
        "param_distribution = {\"n_neighbors\":[2,5,7,10,15,20,25,30],\n",
        "                      \"model_name\":\"knn\",\n",
        "                      \"weights\":['uniform','distance']}\n",
        "\n",
        "%time randomsearch(**param_distribution)"
      ],
      "metadata": {
        "colab": {
          "base_uri": "https://localhost:8080/"
        },
        "id": "O0RHUialpCJb",
        "outputId": "3e116be9-ef5e-4963-d21e-4f9e1132b3ed"
      },
      "execution_count": 23,
      "outputs": [
        {
          "output_type": "stream",
          "name": "stdout",
          "text": [
            "0.9594799999999999\n",
            "----------------\n",
            "{'weights': 'distance', 'n_neighbors': 15}\n",
            "----------------\n",
            "KNeighborsClassifier(n_neighbors=15, weights='distance')\n",
            "CPU times: user 301 ms, sys: 25.1 ms, total: 326 ms\n",
            "Wall time: 10.6 s\n"
          ]
        }
      ]
    },
    {
      "cell_type": "code",
      "source": [
        "# Hyperparameter tuning using Randomizedsearchcv - Logistic Regression.\n",
        "param_distribution = {\"C\":[0.001,0.005,0.1,0.05,0.1,0.5],\n",
        "                      \"model_name\":\"lr\"}\n",
        "\n",
        "%time randomsearch(**param_distribution)"
      ],
      "metadata": {
        "colab": {
          "base_uri": "https://localhost:8080/"
        },
        "id": "IHDq3RrIpCMz",
        "outputId": "2584b0a9-4f78-438f-ea59-badfe715ed2b"
      },
      "execution_count": 24,
      "outputs": [
        {
          "output_type": "stream",
          "name": "stderr",
          "text": [
            "/usr/local/lib/python3.7/dist-packages/sklearn/model_selection/_search.py:296: UserWarning: The total space of parameters 6 is smaller than n_iter=10. Running 6 iterations. For exhaustive searches, use GridSearchCV.\n",
            "  UserWarning,\n"
          ]
        },
        {
          "output_type": "stream",
          "name": "stdout",
          "text": [
            "0.78616\n",
            "----------------\n",
            "{'C': 0.005}\n",
            "----------------\n",
            "LogisticRegression(C=0.005)\n",
            "CPU times: user 202 ms, sys: 61.8 ms, total: 264 ms\n",
            "Wall time: 1.32 s\n"
          ]
        }
      ]
    },
    {
      "cell_type": "code",
      "source": [
        ""
      ],
      "metadata": {
        "id": "hXeKzORRpCUv"
      },
      "execution_count": 24,
      "outputs": []
    },
    {
      "cell_type": "markdown",
      "source": [
        "We can see above that K Nearest Neighbors classifier performed better than sophisticated algorithms such as XGBoost, LightGBM classifiers. We can also see that KNN clasifier took the least amount of time and XGBoost took most time. Random Searchis used when we have large set of hyperparameters to search from. "
      ],
      "metadata": {
        "id": "-VvO1WsjFrYy"
      }
    },
    {
      "cell_type": "code",
      "source": [
        ""
      ],
      "metadata": {
        "id": "xMRrz67KpCXQ"
      },
      "execution_count": 24,
      "outputs": []
    },
    {
      "cell_type": "markdown",
      "metadata": {
        "id": "13BDVfFcFtlg"
      },
      "source": [
        "### Hyperparameter Tuning With Grid Search"
      ]
    },
    {
      "cell_type": "markdown",
      "metadata": {
        "id": "1BXS-D1YFtlh"
      },
      "source": [
        "Now we shall see how to tune the Hyperparameters of the Random Forest model using GridsearchCV library from scikit-learn. \n",
        "\n",
        "There are a few things to note about GridsearchCV implementation from scikit-learn,\n",
        "\n",
        "1. We need to pass the parameters in the form of distribution or grid-like with key-value pairs, like in a dictionary.\n",
        "2. It performs cross-validation so that overfitting does not happen.\n",
        "3. For classification problems, by default, StratifiedKFold cross-validation is performed and for Regression problems, KFold cross-validation is performed. This is helpful in case the dependent variable is imbalanced.\n",
        "4. It also has methods like predict_proba in case you want to predict probabilities, best_score_ to know the best score obtained, best_params_ to get the best parameters that the model has learned, etc. \n",
        "5. You can also define the scoring parameter of your choice. \n",
        "\n",
        "Few differences between RandomizedsearchCV and GridsearchCV implementations are,\n",
        "1. In RandomizedsearchCV, not all combinations of hyperparameters are searched (this is defined by n_iter), but in GridsearchCV, all possible combinations are searched.\n",
        "2. GridsearchCV takes a significantly longer time than RandomizedsearchCV because of a large number of combinations.\n",
        "\n",
        "We will use the same function that we used for Random Search, we will replace RandomizedsearchCV with Gridsearchcv. Everything else remains the same. We will also not use too many hyperparameter sets here in Grid Search as it will take a lot of time to execute. "
      ]
    },
    {
      "cell_type": "code",
      "source": [
        "def gridsearch(**param_grid):\n",
        "\n",
        "  # defining the model\n",
        "  if param_grid['model_name'] == \"rf\":\n",
        "    model = RandomForestClassifier(min_samples_leaf=15,min_samples_split=20,n_jobs=-1,n_estimators=600)\n",
        "  elif param_grid['model_name'] == \"dt\":\n",
        "    model = DecisionTreeClassifier(random_state=42)\n",
        "  elif param_grid['model_name'] == \"lgb\":\n",
        "    model = lgb.LGBMClassifier(boosting_type='gbdt',objective='binary',subsample=0.9,min_child_samples=5,max_depth=10,n_jobs=-1,colsample_bytree=0.7,n_estimators=1000)\n",
        "  elif param_grid['model_name'] == \"xgb\":\n",
        "    model = xgb.XGBClassifier(booster='gbtree',objective=\"binary:logistic\",subsample=0.9,min_child_samples=15,max_depth=10,n_jobs=-1,colsample_bytree=0.8,n_estimators=600,reg_alpha=1,reg_lambda=2)\n",
        "  elif param_grid['model_name'] == \"knn\":\n",
        "    model = KNeighborsClassifier(weights='distance')\n",
        "  elif param_grid['model_name'] == \"lr\":\n",
        "    model = LogisticRegression()\n",
        "  elif param_grid['model_name'] == \"nb\":\n",
        "    model = GaussianNB()\n",
        "  elif param_grid['model_name'] == \"gb\":\n",
        "    model = GradientBoostingClassifier(min_samples_leaf=15,min_samples_split=15,subsample=0.8,n_estimators=600,learning_rate=0.003)\n",
        "\n",
        "  # drop the model name from params\n",
        "  del param_grid['model_name']\n",
        "\n",
        "  \n",
        "  # defining the search\n",
        "  grid_search = GridSearchCV(estimator=model,\n",
        "                        param_grid=param_grid,\n",
        "                        scoring='accuracy',\n",
        "                        cv = 5,\n",
        "                        n_jobs=-1)\n",
        "  \n",
        "  # fitting the GridsearchCV\n",
        "  grid_search.fit(X,y)\n",
        "\n",
        "  # fetching the best score, params, estimator\n",
        "  print (grid_search.best_score_)\n",
        "  print (\"----------------\")\n",
        "\n",
        "  print (grid_search.best_params_)\n",
        "  print (\"----------------\")\n",
        "\n",
        "  print (grid_search.best_estimator_)"
      ],
      "metadata": {
        "id": "ncLYcALGF5l-"
      },
      "execution_count": 25,
      "outputs": []
    },
    {
      "cell_type": "code",
      "source": [
        "# Hyperparameter tuning using GridsearchCV - Decision Tree Classifier.\n",
        "param_grid = {\"max_depth\":list(range(4,11,2)),\n",
        "              \"max_features\":['sqrt','log2',0.5],\n",
        "              \"min_samples_leaf\":list(range(5,16,5)),\n",
        "              \"min_samples_split\":list(range(15,30,5)),\n",
        "              \"model_name\":\"dt\"}\n",
        "\n",
        "%time gridsearch(**param_grid)"
      ],
      "metadata": {
        "colab": {
          "base_uri": "https://localhost:8080/"
        },
        "id": "sYEElmcFGHhv",
        "outputId": "02be9a06-061c-493d-aad5-c96a2e021b76"
      },
      "execution_count": 26,
      "outputs": [
        {
          "output_type": "stream",
          "name": "stdout",
          "text": [
            "0.931\n",
            "----------------\n",
            "{'max_depth': 10, 'max_features': 0.5, 'min_samples_leaf': 5, 'min_samples_split': 20}\n",
            "----------------\n",
            "DecisionTreeClassifier(max_depth=10, max_features=0.5, min_samples_leaf=5,\n",
            "                       min_samples_split=20, random_state=42)\n",
            "CPU times: user 1.45 s, sys: 95.2 ms, total: 1.55 s\n",
            "Wall time: 30 s\n"
          ]
        }
      ]
    },
    {
      "cell_type": "code",
      "source": [
        "# Hyperparameter tuning using GridsearchCV - Random Forest Classifier.\n",
        "param_grid = {\"max_depth\":[6,8,10],\n",
        "              \"max_features\":['sqrt','log2',0.5],\n",
        "              \"model_name\":\"rf\"}\n",
        "\n",
        "%time gridsearch(**param_grid)"
      ],
      "metadata": {
        "colab": {
          "base_uri": "https://localhost:8080/"
        },
        "id": "ZMlYd0xJJLk5",
        "outputId": "f5143665-282f-4c20-fa1d-5d5dca8a7aab"
      },
      "execution_count": 27,
      "outputs": [
        {
          "output_type": "stream",
          "name": "stdout",
          "text": [
            "0.94536\n",
            "----------------\n",
            "{'max_depth': 10, 'max_features': 0.5}\n",
            "----------------\n",
            "RandomForestClassifier(max_depth=10, max_features=0.5, min_samples_leaf=15,\n",
            "                       min_samples_split=20, n_estimators=600, n_jobs=-1)\n",
            "CPU times: user 1min 31s, sys: 757 ms, total: 1min 32s\n",
            "Wall time: 18min 13s\n"
          ]
        }
      ]
    },
    {
      "cell_type": "code",
      "source": [
        "# Hyperparameter tuning using GridsearchCV - Gradient Boosting Classifier.\n",
        "param_grid = {\"max_depth\":list(range(4,11,2)),\n",
        "              \"model_name\":\"gb\"}\n",
        "\n",
        "%time gridsearch(**param_grid)"
      ],
      "metadata": {
        "colab": {
          "base_uri": "https://localhost:8080/"
        },
        "id": "LQvwMZ_HbLsR",
        "outputId": "d87ec753-fae8-4696-b5b5-b430b0e764d5"
      },
      "execution_count": 28,
      "outputs": [
        {
          "output_type": "stream",
          "name": "stdout",
          "text": [
            "0.95048\n",
            "----------------\n",
            "{'max_depth': 10}\n",
            "----------------\n",
            "GradientBoostingClassifier(learning_rate=0.003, max_depth=10,\n",
            "                           min_samples_leaf=15, min_samples_split=15,\n",
            "                           n_estimators=600, subsample=0.8)\n",
            "CPU times: user 2min 34s, sys: 878 ms, total: 2min 35s\n",
            "Wall time: 23min 40s\n"
          ]
        }
      ]
    },
    {
      "cell_type": "code",
      "source": [
        "# Hyperparameter tuning using GridsearchCV - LightGBM Classifier.\n",
        "param_grid = {\"learning_rate\":[0.001,0.003,0.005,0.01],\n",
        "              \"model_name\":\"lgb\",\n",
        "              \"reg_alpha\":[0.5,1,2],\n",
        "              \"reg_lambda\":[0.5,1,2]}\n",
        "\n",
        "%time gridsearch(**param_grid)"
      ],
      "metadata": {
        "colab": {
          "base_uri": "https://localhost:8080/"
        },
        "id": "-fKm6rOZbMey",
        "outputId": "3e956c95-eb12-424b-9e36-583f7947cde3"
      },
      "execution_count": 29,
      "outputs": [
        {
          "output_type": "stream",
          "name": "stdout",
          "text": [
            "0.9582\n",
            "----------------\n",
            "{'learning_rate': 0.01, 'reg_alpha': 2, 'reg_lambda': 0.5}\n",
            "----------------\n",
            "LGBMClassifier(colsample_bytree=0.7, learning_rate=0.01, max_depth=10,\n",
            "               min_child_samples=5, n_estimators=1000, objective='binary',\n",
            "               reg_alpha=2, reg_lambda=0.5, subsample=0.9)\n",
            "CPU times: user 8.49 s, sys: 486 ms, total: 8.98 s\n",
            "Wall time: 10min 34s\n"
          ]
        }
      ]
    },
    {
      "cell_type": "code",
      "source": [
        "# Hyperparameter tuning using GridsearchCV - XGBoost Classifier.\n",
        "param_grid = {\"learning_rate\":[0.001,0.003,0.005],\n",
        "              \"model_name\":\"xgb\"}\n",
        "\n",
        "%time gridsearch(**param_grid)"
      ],
      "metadata": {
        "colab": {
          "base_uri": "https://localhost:8080/"
        },
        "id": "CgNxe5c0bMyS",
        "outputId": "3a933081-9007-4592-9b60-1b26fad9a97e"
      },
      "execution_count": 30,
      "outputs": [
        {
          "output_type": "stream",
          "name": "stdout",
          "text": [
            "0.9547599999999999\n",
            "----------------\n",
            "{'learning_rate': 0.005}\n",
            "----------------\n",
            "XGBClassifier(colsample_bytree=0.8, learning_rate=0.005, max_depth=10,\n",
            "              min_child_samples=15, n_estimators=600, n_jobs=-1, reg_alpha=1,\n",
            "              reg_lambda=2, subsample=0.9)\n",
            "CPU times: user 44.9 s, sys: 309 ms, total: 45.2 s\n",
            "Wall time: 7min 39s\n"
          ]
        }
      ]
    },
    {
      "cell_type": "code",
      "source": [
        "# Hyperparameter tuning using GridsearchCV - KNN Classifier.\n",
        "param_grid = {\"n_neighbors\":[2,5,7,10,15,20,25,30],\n",
        "              \"model_name\":\"knn\"}\n",
        "\n",
        "%time gridsearch(**param_grid)"
      ],
      "metadata": {
        "colab": {
          "base_uri": "https://localhost:8080/"
        },
        "id": "Nk2itK-XbM_R",
        "outputId": "b8a9bf9f-7f61-4d79-a630-de731360bd83"
      },
      "execution_count": 31,
      "outputs": [
        {
          "output_type": "stream",
          "name": "stdout",
          "text": [
            "0.96004\n",
            "----------------\n",
            "{'n_neighbors': 10}\n",
            "----------------\n",
            "KNeighborsClassifier(n_neighbors=10, weights='distance')\n",
            "CPU times: user 244 ms, sys: 15.1 ms, total: 259 ms\n",
            "Wall time: 6.95 s\n"
          ]
        }
      ]
    },
    {
      "cell_type": "code",
      "source": [
        "# Hyperparameter tuning using GridsearchCV - Logistic Regression.\n",
        "param_grid = {\"C\":[0.001,0.005,0.1,0.05,0.1,0.5],\n",
        "              \"model_name\":\"lr\"}\n",
        "\n",
        "%time gridsearch(**param_grid)"
      ],
      "metadata": {
        "colab": {
          "base_uri": "https://localhost:8080/"
        },
        "id": "gpQjPxlmbNId",
        "outputId": "c9ea2ddf-54e1-46ba-a707-c4fcf167ec0b"
      },
      "execution_count": 32,
      "outputs": [
        {
          "output_type": "stream",
          "name": "stdout",
          "text": [
            "0.78616\n",
            "----------------\n",
            "{'C': 0.005}\n",
            "----------------\n",
            "LogisticRegression(C=0.005)\n",
            "CPU times: user 192 ms, sys: 60.2 ms, total: 252 ms\n",
            "Wall time: 1.33 s\n"
          ]
        }
      ]
    },
    {
      "cell_type": "code",
      "source": [
        ""
      ],
      "metadata": {
        "id": "-5PezztsbNRT"
      },
      "execution_count": 32,
      "outputs": []
    },
    {
      "cell_type": "markdown",
      "source": [
        "We can see from the results of the Grid search that, almost all of the ML models took significant time to execute. That is because grid search is time consuming. We could also see that Grid search with Gradient Boosting classifier took maximum time and KNN classifier took minimum time and KNN classifier produced the best results. The only conclusion that can be drawn is that Grid search is time consuming and it should be used when you have narrowed down your list of hyperparameters to a few values. \n",
        "\n",
        "We can note from the output above that it took more than 17 mins to run the grid search using Random Forest Classifier, even though the number of hyperparameters to search was less than that of Random Search. This is because, in Grid Search, every possible combination is checked. For example, in the above code, there are 12 combinations checked. 4 from n_estimators and 3 from max_depth. This combined with the large size of the dataset and 5 fold cross-validation, will take a significantly long time. \n",
        "\n",
        "Usually, Random Search is used in the beginning to narrow down the parameters to a few values, and then to further fine-tune, grid search is used. \n",
        "\n",
        "Similar to RandomizedsearchCV, in Grid search as well, we can see the best score, best estimator, best parameters, etc."
      ],
      "metadata": {
        "id": "XpJOeHHFyRVM"
      }
    },
    {
      "cell_type": "markdown",
      "metadata": {
        "id": "cOKWQOf5Ftlk"
      },
      "source": [
        "### Hyperparameter Tuning With Hyperopt"
      ]
    },
    {
      "cell_type": "markdown",
      "metadata": {
        "id": "a1nPL4vGFtlk"
      },
      "source": [
        "Hyperopt is an advanced hyperparameter tuning library that uses Bayesian Optimization for tuning, it was created by James Bergstra. The main advantage of this library is that it can be used with large datasets and with large set of Hyperparameters to tune. Hyperopt has following components that form its core, \n",
        "\n",
        "1. Objective Function.\n",
        "2. fmin function.\n",
        "3. search space.\n",
        "\n",
        "Objective function basically defines the lss function that you want to minimize. For examples, it can be log loss etc. \n",
        "\n",
        "Search space basically defines the hyperparameters that you want to tune and the range of values they take. It is not defined in the form of a distribution or a grid like we saw in GridsearchCV or RandomizedsearchCV. \n",
        "\n",
        "fmin function is basically the function that takes in the search space, objective function and uses different types of search methods to search for best set of hyperparameters. Random Search, TPE (Tree Parzen Estimator) are some of the commonly used search methods. It also takes in the maximum number of evaluations that you want to perform. \n",
        "\n",
        "It also has a Trials object that is used to store the parameters, loss functions etc in order to evaluate in the future. We will now see how to implement Hyperparameter Optimization using Hyperopt library."
      ]
    },
    {
      "cell_type": "markdown",
      "metadata": {
        "id": "W5TvhpMSFtll"
      },
      "source": [
        "Note that in the code to define search space below, there are different methods to deine search spaces, if you want to choose from a few values, you need to define it as hp.choice, if you want the values within a range and if you want them to be discrete , it should be defined as hp.quniform. There are many such methods of defining search space. \n",
        "\n",
        "Link to know more about defining search spaces: https://github.com/hyperopt/hyperopt/wiki/FMin#21-parameter-expressions\n",
        "\n",
        "We will define a function similar to the function used for Grid search and Random search, it will decide which ML algorithm to run based on the input. "
      ]
    },
    {
      "cell_type": "code",
      "source": [
        "def hyperopt_tuning(params):\n",
        "\n",
        "    # defining the model\n",
        "    if DEFAULT_PARAMS['model_name'] == \"rf\":\n",
        "      model = RandomForestClassifier(n_jobs=-1,n_estimators=600)\n",
        "    elif DEFAULT_PARAMS['model_name'] == \"dt\":\n",
        "      model = DecisionTreeClassifier()\n",
        "    elif DEFAULT_PARAMS['model_name'] == \"lgb\":\n",
        "      model = lgb.LGBMClassifier(boosting_type=\"gbdt\",objective=\"binary\",n_jobs=-1)\n",
        "    elif DEFAULT_PARAMS['model_name'] == \"xgb\":\n",
        "      model = xgb.XGBClassifier(booster='gbtree',objective=\"binary:logistic\",n_jobs=-1)\n",
        "    elif DEFAULT_PARAMS['model_name'] == \"knn\":\n",
        "      model = KNeighborsClassifier(n_jobs=-1)\n",
        "    elif DEFAULT_PARAMS['model_name'] == \"lr\":\n",
        "      model = LogisticRegression()\n",
        "    elif DEFAULT_PARAMS['model_name'] == \"nb\":\n",
        "      model = GaussianNB()\n",
        "    elif DEFAULT_PARAMS['model_name'] == \"gb\":\n",
        "      model = GradientBoostingClassifier(n_estimators=600,learning_rate=0.001,max_depth=8)\n",
        "\n",
        "    # drop the model name from params\n",
        "    # del DEFAULT_PARAMS['model_name']\n",
        "\n",
        "    all_params = {**params,**DEFAULT_PARAMS}\n",
        "    \n",
        "    # Note: Instead of running the cross_val_score, you can manually split the data using stratifiedkfold or just kfold\n",
        "    accuracy_score = cross_val_score(model, X, y,cv=5,scoring=\"accuracy\").mean()\n",
        "    return {\"loss\": -accuracy_score, \"status\": STATUS_OK}"
      ],
      "metadata": {
        "id": "706wI8aE8Nd8"
      },
      "execution_count": 33,
      "outputs": []
    },
    {
      "cell_type": "code",
      "source": [
        "# Hyperopt With Decision Tree Classifier \n",
        "\n",
        "# Defining the search space\n",
        "search_space = {\"max_depth\": hp.choice(\"max_depth\", [4,6,8,10]),\n",
        "                \"max_features\": hp.choice(\"max_features\", [0.5,'sqrt','log2']),\n",
        "                \"min_samples_leaf\":hp.choice(\"min_samples_leaf\", [3,5,7,10,25]),\n",
        "                \"min_samples_split\":hp.choice(\"min_samples_split\", [10,20,30,40])}\n",
        "\n",
        "DEFAULT_PARAMS = {\"model_name\":\"dt\"}\n",
        "\n",
        "\n",
        "# Initializing trials\n",
        "trials = Trials()\n",
        "\n",
        "optimized = fmin(fn=hyperopt_tuning,\n",
        "                 space = search_space,  # using the search space defined above\n",
        "                 algo=tpe.suggest,  # search algorithm to use\n",
        "                 max_evals=10, # performs 10 evaluations\n",
        "                 trials=trials)\n",
        "\n",
        "print(\"Best Parameters: {}\".format(optimized))\n",
        "print (\"------------------------------------\")\n",
        "# Checking all scores using trials\n",
        "print (trials.losses())\n",
        "print (\"------------------------------------\")\n",
        "# Checking the best trial (trial with best accuracy)\n",
        "print (trials.best_trial)\n",
        "print (\"------------------------------------\")\n",
        "# checking the results.\n",
        "trials.results"
      ],
      "metadata": {
        "colab": {
          "base_uri": "https://localhost:8080/"
        },
        "id": "fMkEkkQl505A",
        "outputId": "c2b5a017-9e7a-4095-dda8-d3d7856f7890"
      },
      "execution_count": 34,
      "outputs": [
        {
          "output_type": "stream",
          "name": "stdout",
          "text": [
            "100%|██████████| 10/10 [00:19<00:00,  1.91s/it, best loss: -0.9309999999999998]\n",
            "Best Parameters: {'max_depth': 0, 'max_features': 2, 'min_samples_leaf': 0, 'min_samples_split': 0}\n",
            "------------------------------------\n",
            "[-0.92904, -0.93028, -0.93072, -0.93056, -0.9299199999999999, -0.9300799999999999, -0.9295200000000001, -0.9309999999999998, -0.9306800000000001, -0.92972]\n",
            "------------------------------------\n",
            "{'state': 2, 'tid': 7, 'spec': None, 'result': {'loss': -0.9309999999999998, 'status': 'ok'}, 'misc': {'tid': 7, 'cmd': ('domain_attachment', 'FMinIter_Domain'), 'workdir': None, 'idxs': {'max_depth': [7], 'max_features': [7], 'min_samples_leaf': [7], 'min_samples_split': [7]}, 'vals': {'max_depth': [0], 'max_features': [2], 'min_samples_leaf': [0], 'min_samples_split': [0]}}, 'exp_key': None, 'owner': None, 'version': 0, 'book_time': datetime.datetime(2022, 3, 5, 13, 17, 45, 225000), 'refresh_time': datetime.datetime(2022, 3, 5, 13, 17, 47, 120000)}\n",
            "------------------------------------\n"
          ]
        },
        {
          "output_type": "execute_result",
          "data": {
            "text/plain": [
              "[{'loss': -0.92904, 'status': 'ok'},\n",
              " {'loss': -0.93028, 'status': 'ok'},\n",
              " {'loss': -0.93072, 'status': 'ok'},\n",
              " {'loss': -0.93056, 'status': 'ok'},\n",
              " {'loss': -0.9299199999999999, 'status': 'ok'},\n",
              " {'loss': -0.9300799999999999, 'status': 'ok'},\n",
              " {'loss': -0.9295200000000001, 'status': 'ok'},\n",
              " {'loss': -0.9309999999999998, 'status': 'ok'},\n",
              " {'loss': -0.9306800000000001, 'status': 'ok'},\n",
              " {'loss': -0.92972, 'status': 'ok'}]"
            ]
          },
          "metadata": {},
          "execution_count": 34
        }
      ]
    },
    {
      "cell_type": "code",
      "source": [
        "# Hyperopt With Random Forest Classifier\n",
        "\n",
        "# Defining the search space\n",
        "search_space = {\"max_depth\": hp.choice(\"max_depth\", [4,6,8,10]),\n",
        "                \"max_features\": hp.choice(\"max_features\", [0.5,'sqrt','log2']),\n",
        "                \"min_samples_leaf\":hp.choice(\"min_samples_leaf\", [3,5,7,10,25]),\n",
        "                \"min_samples_split\":hp.choice(\"min_samples_split\", [10,20,30,40])}\n",
        "\n",
        "DEFAULT_PARAMS = {\"model_name\":\"rf\"}\n",
        "\n",
        "\n",
        "# Initializing trials\n",
        "trials = Trials()\n",
        "\n",
        "optimized = fmin(fn=hyperopt_tuning,\n",
        "                 space = search_space,  # using the search space defined above\n",
        "                 algo=tpe.suggest,  # search algorithm to use\n",
        "                 max_evals=10, # performs 10 evaluations\n",
        "                 trials=trials)\n",
        "\n",
        "print(\"Best Parameters: {}\".format(optimized))\n",
        "print (\"------------------------------------\")\n",
        "# Checking all scores using trials\n",
        "print (trials.losses())\n",
        "print (\"------------------------------------\")\n",
        "# Checking the best trial (trial with best accuracy)\n",
        "print (trials.best_trial)\n",
        "print (\"------------------------------------\")\n",
        "# checking the results.\n",
        "trials.results"
      ],
      "metadata": {
        "colab": {
          "base_uri": "https://localhost:8080/"
        },
        "id": "Rgau5Uc454k7",
        "outputId": "4b8209f9-24cd-4852-bcff-679ee0c49137"
      },
      "execution_count": 35,
      "outputs": [
        {
          "output_type": "stream",
          "name": "stdout",
          "text": [
            "100%|██████████| 10/10 [25:28<00:00, 152.85s/it, best loss: -0.9616]\n",
            "Best Parameters: {'max_depth': 1, 'max_features': 2, 'min_samples_leaf': 3, 'min_samples_split': 1}\n",
            "------------------------------------\n",
            "[-0.9610799999999999, -0.9612400000000001, -0.9610799999999999, -0.96096, -0.9609200000000001, -0.9615199999999999, -0.9615199999999999, -0.96144, -0.96144, -0.9616]\n",
            "------------------------------------\n",
            "{'state': 2, 'tid': 9, 'spec': None, 'result': {'loss': -0.9616, 'status': 'ok'}, 'misc': {'tid': 9, 'cmd': ('domain_attachment', 'FMinIter_Domain'), 'workdir': None, 'idxs': {'max_depth': [9], 'max_features': [9], 'min_samples_leaf': [9], 'min_samples_split': [9]}, 'vals': {'max_depth': [1], 'max_features': [2], 'min_samples_leaf': [3], 'min_samples_split': [1]}}, 'exp_key': None, 'owner': None, 'version': 0, 'book_time': datetime.datetime(2022, 3, 5, 13, 40, 47, 124000), 'refresh_time': datetime.datetime(2022, 3, 5, 13, 43, 19, 524000)}\n",
            "------------------------------------\n"
          ]
        },
        {
          "output_type": "execute_result",
          "data": {
            "text/plain": [
              "[{'loss': -0.9610799999999999, 'status': 'ok'},\n",
              " {'loss': -0.9612400000000001, 'status': 'ok'},\n",
              " {'loss': -0.9610799999999999, 'status': 'ok'},\n",
              " {'loss': -0.96096, 'status': 'ok'},\n",
              " {'loss': -0.9609200000000001, 'status': 'ok'},\n",
              " {'loss': -0.9615199999999999, 'status': 'ok'},\n",
              " {'loss': -0.9615199999999999, 'status': 'ok'},\n",
              " {'loss': -0.96144, 'status': 'ok'},\n",
              " {'loss': -0.96144, 'status': 'ok'},\n",
              " {'loss': -0.9616, 'status': 'ok'}]"
            ]
          },
          "metadata": {},
          "execution_count": 35
        }
      ]
    },
    {
      "cell_type": "code",
      "source": [
        "# Hyperopt With Gradient Boosting Classifier\n",
        "\n",
        "# Defining the search space\n",
        "search_space = {\"max_features\": hp.choice(\"max_features\", [0.5,'sqrt','log2']),\n",
        "                \"min_samples_leaf\":hp.choice(\"min_samples_leaf\", [3,5,7,10,25]),\n",
        "                \"min_samples_split\":hp.choice(\"min_samples_split\", [10,20,30,40]),\n",
        "                \"subsample\":hp.choice(\"subsample\",[0.7,0.8,0.9])}\n",
        "\n",
        "DEFAULT_PARAMS = {\"model_name\":\"gb\"}\n",
        "\n",
        "\n",
        "# Initializing trials\n",
        "trials = Trials()\n",
        "\n",
        "optimized = fmin(fn=hyperopt_tuning,\n",
        "                 space = search_space,  # using the search space defined above\n",
        "                 algo=tpe.suggest,  # search algorithm to use\n",
        "                 max_evals=10, # performs 10 evaluations\n",
        "                 trials=trials)\n",
        "\n",
        "print(\"Best Parameters: {}\".format(optimized))\n",
        "print (\"------------------------------------\")\n",
        "# Checking all scores using trials\n",
        "print (trials.losses())\n",
        "print (\"------------------------------------\")\n",
        "# Checking the best trial (trial with best accuracy)\n",
        "print (trials.best_trial)\n",
        "print (\"------------------------------------\")\n",
        "# checking the results.\n",
        "trials.results"
      ],
      "metadata": {
        "colab": {
          "base_uri": "https://localhost:8080/"
        },
        "id": "S-I1pYJ_57Aa",
        "outputId": "f3637b83-91dc-4f79-8ee5-932f50398b4f"
      },
      "execution_count": 36,
      "outputs": [
        {
          "output_type": "stream",
          "name": "stdout",
          "text": [
            "100%|██████████| 10/10 [1:41:30<00:00, 609.07s/it, best loss: -0.9326000000000001]\n",
            "Best Parameters: {'max_features': 1, 'min_samples_leaf': 1, 'min_samples_split': 2, 'subsample': 0}\n",
            "------------------------------------\n",
            "[-0.93248, -0.93256, -0.93256, -0.9326000000000001, -0.93256, -0.93244, -0.93256, -0.93248, -0.93252, -0.93256]\n",
            "------------------------------------\n",
            "{'state': 2, 'tid': 3, 'spec': None, 'result': {'loss': -0.9326000000000001, 'status': 'ok'}, 'misc': {'tid': 3, 'cmd': ('domain_attachment', 'FMinIter_Domain'), 'workdir': None, 'idxs': {'max_features': [3], 'min_samples_leaf': [3], 'min_samples_split': [3], 'subsample': [3]}, 'vals': {'max_features': [1], 'min_samples_leaf': [1], 'min_samples_split': [2], 'subsample': [0]}}, 'exp_key': None, 'owner': None, 'version': 0, 'book_time': datetime.datetime(2022, 3, 5, 14, 13, 52, 466000), 'refresh_time': datetime.datetime(2022, 3, 5, 14, 24, 0, 638000)}\n",
            "------------------------------------\n"
          ]
        },
        {
          "output_type": "execute_result",
          "data": {
            "text/plain": [
              "[{'loss': -0.93248, 'status': 'ok'},\n",
              " {'loss': -0.93256, 'status': 'ok'},\n",
              " {'loss': -0.93256, 'status': 'ok'},\n",
              " {'loss': -0.9326000000000001, 'status': 'ok'},\n",
              " {'loss': -0.93256, 'status': 'ok'},\n",
              " {'loss': -0.93244, 'status': 'ok'},\n",
              " {'loss': -0.93256, 'status': 'ok'},\n",
              " {'loss': -0.93248, 'status': 'ok'},\n",
              " {'loss': -0.93252, 'status': 'ok'},\n",
              " {'loss': -0.93256, 'status': 'ok'}]"
            ]
          },
          "metadata": {},
          "execution_count": 36
        }
      ]
    },
    {
      "cell_type": "code",
      "source": [
        "# Hyperopt With Light GBM Classifier\n",
        "\n",
        "# Defining the search space\n",
        "search_space = {\"n_estimators\": hp.choice(\"n_estimators\", [200,400,600,800,1000,1200]),\n",
        "                \"max_depth\": hp.choice(\"max_depth\", [4,6,8,10]),\n",
        "                \"colsample_bytree\": hp.choice(\"colsample_bytree\", [0.7,0.8,0.9]),\n",
        "                \"min_child_samples\":hp.choice(\"min_child_samples\", [3,5,7,10,25]),\n",
        "                \"subsample\":hp.choice(\"subsample\",[.75,.8,.9]),\n",
        "                \"reg_alpha\":hp.choice(\"reg_alpa\",[0.5,1,2,5,10]),\n",
        "                \"reg_lambda\":hp.choice(\"reg_lambda\",[0.5,1,2,5,10])}\n",
        "\n",
        "DEFAULT_PARAMS = {\"model_name\":\"lgb\"}\n",
        "\n",
        "\n",
        "# Initializing trials\n",
        "trials = Trials()\n",
        "\n",
        "optimized = fmin(fn=hyperopt_tuning,\n",
        "                 space = search_space,  # using the search space defined above\n",
        "                 algo=tpe.suggest,  # search algorithm to use\n",
        "                 max_evals=10, # performs 10 evaluations\n",
        "                 trials=trials)\n",
        "\n",
        "print(\"Best Parameters: {}\".format(optimized))\n",
        "print (\"------------------------------------\")\n",
        "# Checking all scores using trials\n",
        "print (trials.losses())\n",
        "print (\"------------------------------------\")\n",
        "# Checking the best trial (trial with best accuracy)\n",
        "print (trials.best_trial)\n",
        "print (\"------------------------------------\")\n",
        "# checking the results.\n",
        "trials.results"
      ],
      "metadata": {
        "colab": {
          "base_uri": "https://localhost:8080/"
        },
        "id": "c0sGy3pBBBBC",
        "outputId": "c03d1c44-adc0-40a5-9a85-813d0489f40f"
      },
      "execution_count": 37,
      "outputs": [
        {
          "output_type": "stream",
          "name": "stdout",
          "text": [
            "100%|██████████| 10/10 [00:26<00:00,  2.68s/it, best loss: -0.9580400000000001]\n",
            "Best Parameters: {'colsample_bytree': 1, 'max_depth': 3, 'min_child_samples': 4, 'n_estimators': 0, 'reg_alpa': 0, 'reg_lambda': 2, 'subsample': 2}\n",
            "------------------------------------\n",
            "[-0.9580400000000001, -0.9580400000000001, -0.9580400000000001, -0.9580400000000001, -0.9580400000000001, -0.9580400000000001, -0.9580400000000001, -0.9580400000000001, -0.9580400000000001, -0.9580400000000001]\n",
            "------------------------------------\n",
            "{'state': 2, 'tid': 0, 'spec': None, 'result': {'loss': -0.9580400000000001, 'status': 'ok'}, 'misc': {'tid': 0, 'cmd': ('domain_attachment', 'FMinIter_Domain'), 'workdir': None, 'idxs': {'colsample_bytree': [0], 'max_depth': [0], 'min_child_samples': [0], 'n_estimators': [0], 'reg_alpa': [0], 'reg_lambda': [0], 'subsample': [0]}, 'vals': {'colsample_bytree': [1], 'max_depth': [3], 'min_child_samples': [4], 'n_estimators': [0], 'reg_alpa': [0], 'reg_lambda': [2], 'subsample': [2]}}, 'exp_key': None, 'owner': None, 'version': 0, 'book_time': datetime.datetime(2022, 3, 5, 15, 24, 50, 294000), 'refresh_time': datetime.datetime(2022, 3, 5, 15, 24, 52, 929000)}\n",
            "------------------------------------\n"
          ]
        },
        {
          "output_type": "execute_result",
          "data": {
            "text/plain": [
              "[{'loss': -0.9580400000000001, 'status': 'ok'},\n",
              " {'loss': -0.9580400000000001, 'status': 'ok'},\n",
              " {'loss': -0.9580400000000001, 'status': 'ok'},\n",
              " {'loss': -0.9580400000000001, 'status': 'ok'},\n",
              " {'loss': -0.9580400000000001, 'status': 'ok'},\n",
              " {'loss': -0.9580400000000001, 'status': 'ok'},\n",
              " {'loss': -0.9580400000000001, 'status': 'ok'},\n",
              " {'loss': -0.9580400000000001, 'status': 'ok'},\n",
              " {'loss': -0.9580400000000001, 'status': 'ok'},\n",
              " {'loss': -0.9580400000000001, 'status': 'ok'}]"
            ]
          },
          "metadata": {},
          "execution_count": 37
        }
      ]
    },
    {
      "cell_type": "code",
      "source": [
        "# Hyperopt With XGBoost Classifier\n",
        "\n",
        "# Defining the search space\n",
        "search_space = {\"n_estimators\": hp.choice(\"n_estimators\", [200,400,600,800,1000]),\n",
        "                \"max_depth\": hp.choice(\"max_depth\", [4,6,8,10]),\n",
        "                \"colsample_bytree\": hp.choice(\"colsample_bytree\", [0.7,0.8,0.9]),\n",
        "                \"min_child_samples\":hp.choice(\"min_child_samples\", [3,5,7,10,25]),\n",
        "                \"subsample\":hp.choice(\"subsample\",[.75,.8,.9]),\n",
        "                \"reg_alpha\":hp.choice(\"reg_alpha\",[0.5,1,2]),\n",
        "                \"reg_lambda\":hp.choice(\"reg_lambda\",[0.5,1,2])}\n",
        "\n",
        "DEFAULT_PARAMS = {\"model_name\":\"xgb\"}\n",
        "\n",
        "\n",
        "# Initializing trials\n",
        "trials = Trials()\n",
        "\n",
        "optimized = fmin(fn=hyperopt_tuning,\n",
        "                 space = search_space,  # using the search space defined above\n",
        "                 algo=tpe.suggest,  # search algorithm to use\n",
        "                 max_evals=10, # performs 10 evaluations\n",
        "                 trials=trials)\n",
        "\n",
        "print(\"Best Parameters: {}\".format(optimized))\n",
        "print (\"------------------------------------\")\n",
        "# Checking all scores using trials\n",
        "print (trials.losses())\n",
        "print (\"------------------------------------\")\n",
        "# Checking the best trial (trial with best accuracy)\n",
        "print (trials.best_trial)\n",
        "print (\"------------------------------------\")\n",
        "# checking the results.\n",
        "trials.results"
      ],
      "metadata": {
        "colab": {
          "base_uri": "https://localhost:8080/"
        },
        "id": "mvNl_Hgep353",
        "outputId": "ee46b283-f411-4255-80f3-b8e4299f61c2"
      },
      "execution_count": 38,
      "outputs": [
        {
          "output_type": "stream",
          "name": "stdout",
          "text": [
            "100%|██████████| 10/10 [01:29<00:00,  8.91s/it, best loss: -0.9302400000000001]\n",
            "Best Parameters: {'colsample_bytree': 0, 'max_depth': 3, 'min_child_samples': 0, 'n_estimators': 3, 'reg_alpha': 1, 'reg_lambda': 0, 'subsample': 2}\n",
            "------------------------------------\n",
            "[-0.9302400000000001, -0.9302400000000001, -0.9302400000000001, -0.9302400000000001, -0.9302400000000001, -0.9302400000000001, -0.9302400000000001, -0.9302400000000001, -0.9302400000000001, -0.9302400000000001]\n",
            "------------------------------------\n",
            "{'state': 2, 'tid': 0, 'spec': None, 'result': {'loss': -0.9302400000000001, 'status': 'ok'}, 'misc': {'tid': 0, 'cmd': ('domain_attachment', 'FMinIter_Domain'), 'workdir': None, 'idxs': {'colsample_bytree': [0], 'max_depth': [0], 'min_child_samples': [0], 'n_estimators': [0], 'reg_alpha': [0], 'reg_lambda': [0], 'subsample': [0]}, 'vals': {'colsample_bytree': [0], 'max_depth': [3], 'min_child_samples': [0], 'n_estimators': [3], 'reg_alpha': [1], 'reg_lambda': [0], 'subsample': [2]}}, 'exp_key': None, 'owner': None, 'version': 0, 'book_time': datetime.datetime(2022, 3, 5, 15, 25, 17, 184000), 'refresh_time': datetime.datetime(2022, 3, 5, 15, 25, 26, 165000)}\n",
            "------------------------------------\n"
          ]
        },
        {
          "output_type": "execute_result",
          "data": {
            "text/plain": [
              "[{'loss': -0.9302400000000001, 'status': 'ok'},\n",
              " {'loss': -0.9302400000000001, 'status': 'ok'},\n",
              " {'loss': -0.9302400000000001, 'status': 'ok'},\n",
              " {'loss': -0.9302400000000001, 'status': 'ok'},\n",
              " {'loss': -0.9302400000000001, 'status': 'ok'},\n",
              " {'loss': -0.9302400000000001, 'status': 'ok'},\n",
              " {'loss': -0.9302400000000001, 'status': 'ok'},\n",
              " {'loss': -0.9302400000000001, 'status': 'ok'},\n",
              " {'loss': -0.9302400000000001, 'status': 'ok'},\n",
              " {'loss': -0.9302400000000001, 'status': 'ok'}]"
            ]
          },
          "metadata": {},
          "execution_count": 38
        }
      ]
    },
    {
      "cell_type": "code",
      "source": [
        "# Hyperopt With K Nearest Neighbors Classifier\n",
        "\n",
        "# Defining the search space\n",
        "search_space = {\"n_neighbors\": hp.choice(\"n_neighbors\", [5,10,15,20,25,50]),\n",
        "                \"weights\": hp.choice(\"weights\", ['uniform','distance'])}\n",
        "\n",
        "DEFAULT_PARAMS = {\"model_name\":\"knn\"}\n",
        "\n",
        "\n",
        "# Initializing trials\n",
        "trials = Trials()\n",
        "\n",
        "optimized = fmin(fn=hyperopt_tuning,\n",
        "                 space = search_space,  # using the search space defined above\n",
        "                 algo=tpe.suggest,  # search algorithm to use\n",
        "                 max_evals=10, # performs 10 evaluations\n",
        "                 trials=trials)\n",
        "\n",
        "print(\"Best Parameters: {}\".format(optimized))\n",
        "print (\"------------------------------------\")\n",
        "# Checking all scores using trials\n",
        "print (trials.losses())\n",
        "print (\"------------------------------------\")\n",
        "# Checking the best trial (trial with best accuracy)\n",
        "print (trials.best_trial)\n",
        "print (\"------------------------------------\")\n",
        "# checking the results.\n",
        "trials.results"
      ],
      "metadata": {
        "colab": {
          "base_uri": "https://localhost:8080/"
        },
        "id": "vAlFNoASp4A8",
        "outputId": "e650363c-c1e2-469c-bb9d-6c9b768d2eda"
      },
      "execution_count": 39,
      "outputs": [
        {
          "output_type": "stream",
          "name": "stdout",
          "text": [
            "100%|██████████| 10/10 [00:19<00:00,  1.97s/it, best loss: -0.9589599999999999]\n",
            "Best Parameters: {'n_neighbors': 3, 'weights': 1}\n",
            "------------------------------------\n",
            "[-0.9589599999999999, -0.9589599999999999, -0.9589599999999999, -0.9589599999999999, -0.9589599999999999, -0.9589599999999999, -0.9589599999999999, -0.9589599999999999, -0.9589599999999999, -0.9589599999999999]\n",
            "------------------------------------\n",
            "{'state': 2, 'tid': 0, 'spec': None, 'result': {'loss': -0.9589599999999999, 'status': 'ok'}, 'misc': {'tid': 0, 'cmd': ('domain_attachment', 'FMinIter_Domain'), 'workdir': None, 'idxs': {'n_neighbors': [0], 'weights': [0]}, 'vals': {'n_neighbors': [3], 'weights': [1]}}, 'exp_key': None, 'owner': None, 'version': 0, 'book_time': datetime.datetime(2022, 3, 5, 15, 26, 46, 310000), 'refresh_time': datetime.datetime(2022, 3, 5, 15, 26, 49, 96000)}\n",
            "------------------------------------\n"
          ]
        },
        {
          "output_type": "execute_result",
          "data": {
            "text/plain": [
              "[{'loss': -0.9589599999999999, 'status': 'ok'},\n",
              " {'loss': -0.9589599999999999, 'status': 'ok'},\n",
              " {'loss': -0.9589599999999999, 'status': 'ok'},\n",
              " {'loss': -0.9589599999999999, 'status': 'ok'},\n",
              " {'loss': -0.9589599999999999, 'status': 'ok'},\n",
              " {'loss': -0.9589599999999999, 'status': 'ok'},\n",
              " {'loss': -0.9589599999999999, 'status': 'ok'},\n",
              " {'loss': -0.9589599999999999, 'status': 'ok'},\n",
              " {'loss': -0.9589599999999999, 'status': 'ok'},\n",
              " {'loss': -0.9589599999999999, 'status': 'ok'}]"
            ]
          },
          "metadata": {},
          "execution_count": 39
        }
      ]
    },
    {
      "cell_type": "code",
      "source": [
        ""
      ],
      "metadata": {
        "id": "BR9NHB_tp4GA"
      },
      "execution_count": 39,
      "outputs": []
    },
    {
      "cell_type": "code",
      "source": [
        ""
      ],
      "metadata": {
        "id": "7cFAr1Inp4Lw"
      },
      "execution_count": 39,
      "outputs": []
    },
    {
      "cell_type": "markdown",
      "source": [
        "We can note a few things from the output of the Hyperopt search,\n",
        "\n",
        "1. The results are 0 encoded. That is, in the Random Forest classifier output, maximum depth of 2 means, it is the value at index 2 (with 0 indexing) from the list we have passed. Similar interpretations apply to other hyperparameter values as well. It should be noted that all are 0 indexed. \n",
        "2. It does not always perform better than Grid search or Random Search.\n",
        "3. It is complicated to code as compared to Grid search or Random search. \n",
        "4. n terms of time taken to run, it take slightly more time than Random Search and less than Grid search. \n",
        "\n",
        "Finally, it cannot be decided that one method of hyperparameter tuning is the best method, trial and error method should be followed and the best method should be decided. One thing to note is that if you pass many hyperparameters to search, no matter what search method you use, all of them will take significant time to run. So the method and hyperparameter values should be searched wisely."
      ],
      "metadata": {
        "id": "V3Ijk7t-zhhz"
      }
    },
    {
      "cell_type": "code",
      "source": [
        ""
      ],
      "metadata": {
        "id": "zcGFI0GQp4dD"
      },
      "execution_count": 39,
      "outputs": []
    },
    {
      "cell_type": "code",
      "source": [
        ""
      ],
      "metadata": {
        "id": "FqJOVhUkp4gp"
      },
      "execution_count": 39,
      "outputs": []
    }
  ],
  "metadata": {
    "kernelspec": {
      "display_name": "Python 3",
      "language": "python",
      "name": "python3"
    },
    "language_info": {
      "codemirror_mode": {
        "name": "ipython",
        "version": 3
      },
      "file_extension": ".py",
      "mimetype": "text/x-python",
      "name": "python",
      "nbconvert_exporter": "python",
      "pygments_lexer": "ipython3",
      "version": "3.7.6"
    },
    "colab": {
      "name": "Hyperparameter_Tuning.ipynb",
      "provenance": [],
      "collapsed_sections": []
    }
  },
  "nbformat": 4,
  "nbformat_minor": 0
}