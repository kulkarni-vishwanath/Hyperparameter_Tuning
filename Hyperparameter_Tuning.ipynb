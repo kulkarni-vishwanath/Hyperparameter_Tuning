{
 "cells": [
  {
   "cell_type": "code",
   "execution_count": 48,
   "metadata": {},
   "outputs": [],
   "source": [
    "import pandas as pd\n",
    "import numpy as np\n",
    "import matplotlib.pyplot as plt\n",
    "%matplotlib inline\n",
    "from sklearn.datasets import make_classification\n",
    "from sklearn.metrics import accuracy_score\n",
    "from sklearn.model_selection import train_test_split,RandomizedSearchCV,GridSearchCV\n",
    "from sklearn.ensemble import RandomForestClassifier\n",
    "from time import time"
   ]
  },
  {
   "cell_type": "markdown",
   "metadata": {},
   "source": [
    "### Generating the Dummy Dataset And Splitting into Training and Testing datasets"
   ]
  },
  {
   "cell_type": "markdown",
   "metadata": {},
   "source": [
    "We are generating a dummy dataset with 50000 observations and 15 variables of which 5 are informative and 10 are redundant. We have also defined the weights parameter as None as we want the classes in the dependent variable to be balanced. We will use this dataset to tune hyperparameters using various methods."
   ]
  },
  {
   "cell_type": "code",
   "execution_count": 49,
   "metadata": {},
   "outputs": [],
   "source": [
    "# Generating Synthetic Dataset\n",
    "X, y = make_classification(n_samples=50000, \n",
    "                           n_classes=2,\n",
    "                           n_features=15, \n",
    "                           n_informative=5, \n",
    "                           n_redundant=10,\n",
    "                           random_state=42,\n",
    "                           weights=None)"
   ]
  },
  {
   "cell_type": "code",
   "execution_count": 50,
   "metadata": {},
   "outputs": [
    {
     "name": "stdout",
     "output_type": "stream",
     "text": [
      "(40000, 15)\n",
      "(40000,)\n",
      "(10000, 15)\n",
      "(10000,)\n"
     ]
    }
   ],
   "source": [
    "# Splitting the data into train, test datasets\n",
    "X_Train, X_Test, y_Train, y_Test = train_test_split(X,y,test_size=0.2,random_state=42)\n",
    "print (X_Train.shape)\n",
    "print (y_Train.shape)\n",
    "print (X_Test.shape)\n",
    "print (y_Test.shape)"
   ]
  },
  {
   "cell_type": "markdown",
   "metadata": {},
   "source": [
    "### Manual Hyperparameter Tuning"
   ]
  },
  {
   "cell_type": "code",
   "execution_count": 51,
   "metadata": {},
   "outputs": [
    {
     "name": "stdout",
     "output_type": "stream",
     "text": [
      "Accuracy Score on Training Dataset is: 0.941575\n",
      "Accuracy Score on Testing Dataset is: 0.9373\n",
      "Wall time: 5.76 s\n"
     ]
    }
   ],
   "source": [
    "%%time\n",
    "# Running the Random Forest model only varying the n_estimator parameter\n",
    "rf = RandomForestClassifier(n_estimators=100,\n",
    "                            max_depth=8,\n",
    "                            max_features='sqrt',\n",
    "                            min_samples_leaf=25,\n",
    "                            min_samples_split=30,\n",
    "                            n_jobs=-1,\n",
    "                            random_state=42)\n",
    "\n",
    "# Fitting the model on training datasets\n",
    "rf.fit(X_Train,y_Train)\n",
    "\n",
    "# predicting on training and testing datasets\n",
    "training_predictions = rf.predict(X_Train)\n",
    "testing_predictions = rf.predict(X_Test)\n",
    "\n",
    "# checking the accuracy score on training and testing datasets\n",
    "print (\"Accuracy Score on Training Dataset is: {}\".format(accuracy_score(y_Train,training_predictions)))\n",
    "print (\"Accuracy Score on Testing Dataset is: {}\".format(accuracy_score(y_Test,testing_predictions)))"
   ]
  },
  {
   "cell_type": "markdown",
   "metadata": {},
   "source": [
    "We can see that it took around 4 seconds to run the model with the default number of estimators or trees. As the number of trees increases, so does the training time and the accuracy score. "
   ]
  },
  {
   "cell_type": "code",
   "execution_count": 52,
   "metadata": {},
   "outputs": [
    {
     "name": "stdout",
     "output_type": "stream",
     "text": [
      "Wall time: 2min 8s\n"
     ]
    }
   ],
   "source": [
    "%%time\n",
    "n_estimators = [100,200,500,750,1000]\n",
    "testing_scores  = []\n",
    "training_scores = []\n",
    "\n",
    "for value in n_estimators:\n",
    "    \n",
    "    # Building the model with different values of n_estimators\n",
    "    rf = RandomForestClassifier(n_estimators=value,\n",
    "                                max_depth=8,\n",
    "                                max_features='sqrt',\n",
    "                                min_samples_leaf=25,\n",
    "                                min_samples_split=30,\n",
    "                                n_jobs=-1,\n",
    "                                random_state=42)\n",
    "    \n",
    "    # Fitting the model on training datasets\n",
    "    rf.fit(X_Train,y_Train)\n",
    "\n",
    "    # predicting on training and testing datasets\n",
    "    training_predictions = rf.predict(X_Train)\n",
    "    testing_predictions = rf.predict(X_Test)\n",
    "\n",
    "    # checking the accuracy score on training and testing datasets\n",
    "    training_accuracy_score = accuracy_score(y_Train,training_predictions)\n",
    "    testing_accuracy_score  = accuracy_score(y_Test,testing_predictions)\n",
    "    \n",
    "    # Appending these values to our original lists\n",
    "    training_scores.append(training_accuracy_score)\n",
    "    testing_scores.append(testing_accuracy_score)"
   ]
  },
  {
   "cell_type": "markdown",
   "metadata": {},
   "source": [
    "* We can see that for a set of 5 values of n_estimators, it took about 2 minutes roughly, so it can be time-consuming to tune hyperparameters manually. Let us now see how it affects the accuracy score.\n",
    "* We can see that for one hyperparameter, it took about 2 mins. If you want to manually tune many of them, the time taken will be significantly higher and the performance will also vary. So it is not feasible to manually tune the hyperparameters. \n",
    "* We can also see in the line plot below that as the n_estimators increase, the training and testing accuracies increase, but further increase in the n_estimators decreases both accuracies. "
   ]
  },
  {
   "cell_type": "code",
   "execution_count": 53,
   "metadata": {},
   "outputs": [
    {
     "data": {
      "image/png": "[encoded data removed]",
      "text/plain": [
       "<Figure size 432x288 with 1 Axes>"
      ]
     },
     "metadata": {
      "needs_background": "light"
     },
     "output_type": "display_data"
    }
   ],
   "source": [
    "df = pd.DataFrame({'Training_Scores': training_scores,'Testing_Scores':  testing_scores}, index=n_estimators)\n",
    "\n",
    "df.plot.line();\n",
    "plt.xlabel(\"N_Estimators\");\n",
    "plt.ylabel('Accuracy_Scores');\n",
    "plt.title(\"Training and Testing Dataset Accuracy Scores with Different n_estimator Values\");"
   ]
  },
  {
   "cell_type": "markdown",
   "metadata": {},
   "source": [
    "### Hyperparameter Tuning with Random Search"
   ]
  },
  {
   "cell_type": "markdown",
   "metadata": {},
   "source": [
    "Now we shall see how to tune the Hyperparameters of the Random Forest model using the RandomizedsearchCV library from scikit-learn. \n",
    "\n",
    "There are a few things to note about RandomizedsearchCV implementation from scikit-learn,\n",
    "\n",
    "1. We need to pass the parameters in the form of distribution or grid-like with key-value pairs, like in a dictionary.\n",
    "2. It performs cross-validation, so that overfitting does not happen.\n",
    "3. For classification problems, by default, StratifiedKFold cross-validation is performed and for Regression problems, KFold cross-validation is performed. This is helpful in case the dependent variable is imbalanced.\n",
    "4. It also has methods like predict_proba in case you want to predict probabilities, best_score_ to know the best score obtained, best_params_ to get the best parameters that the model has learned, etc. \n",
    "5. You can also define the number of combinations of parameter settings, it is defined by n_iter.\n",
    "6. You can also define the scoring parameter of your choice. "
   ]
  },
  {
   "cell_type": "code",
   "execution_count": 54,
   "metadata": {},
   "outputs": [
    {
     "name": "stdout",
     "output_type": "stream",
     "text": [
      "Wall time: 12min 24s\n"
     ]
    },
    {
     "data": {
      "text/plain": [
       "RandomizedSearchCV(cv=5,\n",
       "                   estimator=RandomForestClassifier(n_jobs=-1, random_state=42),\n",
       "                   param_distributions={'max_depth': [4, 6, 8, 10],\n",
       "                                        'max_features': ['sqrt', 'log2', 0.5],\n",
       "                                        'min_samples_leaf': [5, 10, 15, 20],\n",
       "                                        'min_samples_split': [15, 25, 35],\n",
       "                                        'n_estimators': [100, 200, 300, 400,\n",
       "                                                         500]},\n",
       "                   scoring='accuracy')"
      ]
     },
     "execution_count": 54,
     "metadata": {},
     "output_type": "execute_result"
    }
   ],
   "source": [
    "%%time\n",
    "# Defining the hyperparameter distributions\n",
    "param_distributions = {\"n_estimators\":list(range(100,600,100)),\n",
    "                       \"max_depth\":list(range(4,11,2)),\n",
    "                       \"max_features\":['sqrt','log2',0.5],\n",
    "                       \"min_samples_leaf\":list(range(5,21,5)),\n",
    "                       \"min_samples_split\":list(range(15,40,10))}\n",
    "\n",
    "# defining the model\n",
    "model = RandomForestClassifier(n_jobs=-1,random_state=42)\n",
    "\n",
    "# defining the search\n",
    "random_search = RandomizedSearchCV(estimator=model,\n",
    "                                   param_distributions=param_distributions,\n",
    "                                   n_iter=10,\n",
    "                                   scoring='accuracy',\n",
    "                                   cv=5)\n",
    "\n",
    "# fitting the random search with dependent and independent variable\n",
    "random_search.fit(X,y)"
   ]
  },
  {
   "cell_type": "markdown",
   "metadata": {},
   "source": [
    "As you can see from the output above, the search took about 12.5 mins to run. We can also check the best score, best parameters etc using the functions provided by scikit learn."
   ]
  },
  {
   "cell_type": "code",
   "execution_count": 55,
   "metadata": {},
   "outputs": [
    {
     "name": "stdout",
     "output_type": "stream",
     "text": [
      "0.9483599999999999\n"
     ]
    }
   ],
   "source": [
    "# Checking the best score\n",
    "print (random_search.best_score_)"
   ]
  },
  {
   "cell_type": "code",
   "execution_count": 56,
   "metadata": {},
   "outputs": [
    {
     "name": "stdout",
     "output_type": "stream",
     "text": [
      "{'n_estimators': 200, 'min_samples_split': 35, 'min_samples_leaf': 5, 'max_features': 0.5, 'max_depth': 10}\n"
     ]
    }
   ],
   "source": [
    "# Checking the best set of parameters\n",
    "print (random_search.best_params_)"
   ]
  },
  {
   "cell_type": "code",
   "execution_count": 57,
   "metadata": {},
   "outputs": [
    {
     "name": "stdout",
     "output_type": "stream",
     "text": [
      "RandomForestClassifier(max_depth=10, max_features=0.5, min_samples_leaf=5,\n",
      "                       min_samples_split=35, n_estimators=200, n_jobs=-1,\n",
      "                       random_state=42)\n"
     ]
    }
   ],
   "source": [
    "# Checking the best estimator\n",
    "print (random_search.best_estimator_)"
   ]
  },
  {
   "cell_type": "markdown",
   "metadata": {},
   "source": [
    "Although there were fewer hyperparameters to search for, it took some time to search because of the size of the dataset and 5 fold cross-validation that is performed. So it becomes important to narrow down your search criteria if your dataset is large so that the time taken is less."
   ]
  },
  {
   "cell_type": "markdown",
   "metadata": {},
   "source": [
    "### Hperparaeter Tuning With Grid Search"
   ]
  },
  {
   "cell_type": "markdown",
   "metadata": {},
   "source": [
    "Now we shall see how to tune the Hyperparameters of the Random Forest model using GridsearchCV library from scikit-learn. \n",
    "\n",
    "There are a few things to note about GridsearchCV implementation from scikit-learn,\n",
    "\n",
    "1. We need to pass the parameters in the form of distribution or grid-like with key-value pairs, like in a dictionary.\n",
    "2. It performs cross-validation so that overfitting does not happen.\n",
    "3. For classification problems, by default, StratifiedKFold cross-validation is performed and for Regression problems, KFold cross-validation is performed. This is helpful in case the dependent variable is imbalanced.\n",
    "4. It also has methods like predict_proba in case you want to predict probabilities, best_score_ to know the best score obtained, best_params_ to get the best parameters that the model has learned, etc. \n",
    "5. You can also define the scoring parameter of your choice. \n",
    "\n",
    "Few differences between RandomizedsearchCV and GridsearchCV implementations are,\n",
    "1. In RandomizedsearchCV, not all combinations of hyperparameters are searched (this is defined by n_iter), but in GridsearchCV, all possible combinations are searched.\n",
    "2. GridsearchCV takes a significantly longer time than RandomizedsearchCV because of a large number of combinations."
   ]
  },
  {
   "cell_type": "code",
   "execution_count": 61,
   "metadata": {},
   "outputs": [
    {
     "name": "stdout",
     "output_type": "stream",
     "text": [
      "Wall time: 17min 20s\n"
     ]
    },
    {
     "data": {
      "text/plain": [
       "RandomizedSearchCV(cv=5,\n",
       "                   estimator=RandomForestClassifier(max_features=0.5,\n",
       "                                                    min_samples_leaf=5,\n",
       "                                                    min_samples_split=35,\n",
       "                                                    n_jobs=-1,\n",
       "                                                    random_state=42),\n",
       "                   param_distributions={'max_depth': [6, 8, 10],\n",
       "                                        'n_estimators': [100, 150, 200, 250]},\n",
       "                   scoring='accuracy')"
      ]
     },
     "execution_count": 61,
     "metadata": {},
     "output_type": "execute_result"
    }
   ],
   "source": [
    "%%time\n",
    "# Defining the hyperparameter grid\n",
    "param_grid = {\"n_estimators\":list(range(100,300,50)),\n",
    "              \"max_depth\":list(range(6,11,2))}\n",
    "\n",
    "# defining the model\n",
    "model = RandomForestClassifier(n_jobs=-1,\n",
    "                               max_features=.5,\n",
    "                               min_samples_leaf=5,\n",
    "                               min_samples_split=35,\n",
    "                               random_state=42)\n",
    "\n",
    "# defining the search\n",
    "grid_search = RandomizedSearchCV(estimator=model,\n",
    "                                   param_distributions=param_grid,\n",
    "                                   scoring='accuracy',\n",
    "                                   cv=5)\n",
    "\n",
    "# fitting the grid search with dependent and independent variable\n",
    "grid_search.fit(X,y)"
   ]
  },
  {
   "cell_type": "markdown",
   "metadata": {},
   "source": [
    "We can note from the output above that it took more than 13 mins to run the grid search, even though the number of hyperparameters to search was less than that of Random Search. This is because, in Grid Search, every possible combination is checked. For example, in the above code, there are 12 combinations checked. 4 from n_estimators and 3 from max_depth. This combined with the large size of the dataset and 5 fold cross-validation, will take a significantly long time. \n",
    "\n",
    "Usually, Random Search is used in the beginning to narrow down the parameters to a few values, and then to further fine-tune, grid search is used. \n",
    "\n",
    "Similar to RandomizedsearchCV, in Grid search as well, we can see the best score, best estimator, best parameters, etc."
   ]
  },
  {
   "cell_type": "code",
   "execution_count": 62,
   "metadata": {},
   "outputs": [
    {
     "name": "stdout",
     "output_type": "stream",
     "text": [
      "0.9483599999999999\n"
     ]
    }
   ],
   "source": [
    "# checking the best score\n",
    "print (grid_search.best_score_)"
   ]
  },
  {
   "cell_type": "code",
   "execution_count": 64,
   "metadata": {},
   "outputs": [
    {
     "name": "stdout",
     "output_type": "stream",
     "text": [
      "{'n_estimators': 200, 'max_depth': 10}\n"
     ]
    }
   ],
   "source": [
    "# checking the best parameters\n",
    "print (grid_search.best_params_)"
   ]
  },
  {
   "cell_type": "code",
   "execution_count": 65,
   "metadata": {},
   "outputs": [
    {
     "name": "stdout",
     "output_type": "stream",
     "text": [
      "RandomForestClassifier(max_depth=10, max_features=0.5, min_samples_leaf=5,\n",
      "                       min_samples_split=35, n_estimators=200, n_jobs=-1,\n",
      "                       random_state=42)\n"
     ]
    }
   ],
   "source": [
    "# checking the best estimator\n",
    "print (grid_search.best_estimator_)"
   ]
  },
  {
   "cell_type": "code",
   "execution_count": null,
   "metadata": {},
   "outputs": [],
   "source": []
  },
  {
   "cell_type": "code",
   "execution_count": null,
   "metadata": {},
   "outputs": [],
   "source": []
  },
  {
   "cell_type": "code",
   "execution_count": null,
   "metadata": {},
   "outputs": [],
   "source": []
  },
  {
   "cell_type": "code",
   "execution_count": null,
   "metadata": {},
   "outputs": [],
   "source": []
  },
  {
   "cell_type": "code",
   "execution_count": null,
   "metadata": {},
   "outputs": [],
   "source": []
  },
  {
   "cell_type": "code",
   "execution_count": null,
   "metadata": {},
   "outputs": [],
   "source": []
  }
 ],
 "metadata": {
  "kernelspec": {
   "display_name": "Python 3",
   "language": "python",
   "name": "python3"
  },
  "language_info": {
   "codemirror_mode": {
    "name": "ipython",
    "version": 3
   },
   "file_extension": ".py",
   "mimetype": "text/x-python",
   "name": "python",
   "nbconvert_exporter": "python",
   "pygments_lexer": "ipython3",
   "version": "3.7.6"
  }
 },
 "nbformat": 4,
 "nbformat_minor": 4
}
